{
 "cells": [
  {
   "cell_type": "markdown",
   "id": "2970c500",
   "metadata": {},
   "source": [
    "# Import Libraries"
   ]
  },
  {
   "cell_type": "code",
   "execution_count": 22,
   "id": "843658a9",
   "metadata": {},
   "outputs": [],
   "source": [
    "from numpy import array\n",
    "from numpy import loadtxt\n",
    "from keras.models import Sequential\n",
    "from keras.layers import Dense\n",
    "from sklearn.model_selection import train_test_split"
   ]
  },
  {
   "cell_type": "markdown",
   "id": "c4f64431",
   "metadata": {},
   "source": [
    "# Load Data"
   ]
  },
  {
   "cell_type": "code",
   "execution_count": 10,
   "id": "202f1f86",
   "metadata": {},
   "outputs": [
    {
     "data": {
      "text/plain": [
       "array([[  6.   , 148.   ,  72.   , ...,   0.627,  50.   ,   1.   ],\n",
       "       [  1.   ,  85.   ,  66.   , ...,   0.351,  31.   ,   0.   ],\n",
       "       [  8.   , 183.   ,  64.   , ...,   0.672,  32.   ,   1.   ],\n",
       "       ...,\n",
       "       [  5.   , 121.   ,  72.   , ...,   0.245,  30.   ,   0.   ],\n",
       "       [  1.   , 126.   ,  60.   , ...,   0.349,  47.   ,   1.   ],\n",
       "       [  1.   ,  93.   ,  70.   , ...,   0.315,  23.   ,   0.   ]])"
      ]
     },
     "execution_count": 10,
     "metadata": {},
     "output_type": "execute_result"
    }
   ],
   "source": [
    "data = loadtxt('pima-indians-diabetes.csv', delimiter=\",\")\n",
    "data"
   ]
  },
  {
   "cell_type": "code",
   "execution_count": 13,
   "id": "e24e6f64",
   "metadata": {},
   "outputs": [
    {
     "data": {
      "text/plain": [
       "array([[  6.   , 148.   ,  72.   , ...,  33.6  ,   0.627,  50.   ],\n",
       "       [  1.   ,  85.   ,  66.   , ...,  26.6  ,   0.351,  31.   ],\n",
       "       [  8.   , 183.   ,  64.   , ...,  23.3  ,   0.672,  32.   ],\n",
       "       ...,\n",
       "       [  5.   , 121.   ,  72.   , ...,  26.2  ,   0.245,  30.   ],\n",
       "       [  1.   , 126.   ,  60.   , ...,  30.1  ,   0.349,  47.   ],\n",
       "       [  1.   ,  93.   ,  70.   , ...,  30.4  ,   0.315,  23.   ]])"
      ]
     },
     "execution_count": 13,
     "metadata": {},
     "output_type": "execute_result"
    }
   ],
   "source": [
    "X = data[:,0:8]\n",
    "X"
   ]
  },
  {
   "cell_type": "code",
   "execution_count": 16,
   "id": "318d8825",
   "metadata": {},
   "outputs": [
    {
     "data": {
      "text/plain": [
       "array([1., 0., 1., 0., 1., 0., 1., 0., 1., 1., 0., 1., 0., 1., 1., 1., 1.,\n",
       "       1., 0., 1., 0., 0., 1., 1., 1., 1., 1., 0., 0., 0., 0., 1., 0., 0.,\n",
       "       0., 0., 0., 1., 1., 1., 0., 0., 0., 1., 0., 1., 0., 0., 1., 0., 0.,\n",
       "       0., 0., 1., 0., 0., 1., 0., 0., 0., 0., 1., 0., 0., 1., 0., 1., 0.,\n",
       "       0., 0., 1., 0., 1., 0., 0., 0., 0., 0., 1., 0., 0., 0., 0., 0., 1.,\n",
       "       0., 0., 0., 1., 0., 0., 0., 0., 1., 0., 0., 0., 0., 0., 1., 1., 0.,\n",
       "       0., 0., 0., 0., 0., 0., 0., 1., 1., 1., 0., 0., 1., 1., 1., 0., 0.,\n",
       "       0., 1., 0., 0., 0., 1., 1., 0., 0., 1., 1., 1., 1., 1., 0., 0., 0.,\n",
       "       0., 0., 0., 0., 0., 0., 0., 1., 0., 0., 0., 0., 0., 0., 0., 0., 1.,\n",
       "       0., 1., 1., 0., 0., 0., 1., 0., 0., 0., 0., 1., 1., 0., 0., 0., 0.,\n",
       "       1., 1., 0., 0., 0., 1., 0., 1., 0., 1., 0., 0., 0., 0., 0., 1., 1.,\n",
       "       1., 1., 1., 0., 0., 1., 1., 0., 1., 0., 1., 1., 1., 0., 0., 0., 0.,\n",
       "       0., 0., 1., 1., 0., 1., 0., 0., 0., 1., 1., 1., 1., 0., 1., 1., 1.,\n",
       "       1., 0., 0., 0., 0., 0., 1., 0., 0., 1., 1., 0., 0., 0., 1., 1., 1.,\n",
       "       1., 0., 0., 0., 1., 1., 0., 1., 0., 0., 0., 0., 0., 0., 0., 0., 1.,\n",
       "       1., 0., 0., 0., 1., 0., 1., 0., 0., 1., 0., 1., 0., 0., 1., 1., 0.,\n",
       "       0., 0., 0., 0., 1., 0., 0., 0., 1., 0., 0., 1., 1., 0., 0., 1., 0.,\n",
       "       0., 0., 1., 1., 1., 0., 0., 1., 0., 1., 0., 1., 1., 0., 1., 0., 0.,\n",
       "       1., 0., 1., 1., 0., 0., 1., 0., 1., 0., 0., 1., 0., 1., 0., 1., 1.,\n",
       "       1., 0., 0., 1., 0., 1., 0., 0., 0., 1., 0., 0., 0., 0., 1., 1., 1.,\n",
       "       0., 0., 0., 0., 0., 0., 0., 0., 0., 1., 0., 0., 0., 0., 0., 1., 1.,\n",
       "       1., 0., 1., 1., 0., 0., 1., 0., 0., 1., 0., 0., 1., 1., 0., 0., 0.,\n",
       "       0., 1., 0., 0., 1., 0., 0., 0., 0., 0., 0., 0., 1., 1., 1., 0., 0.,\n",
       "       1., 0., 0., 1., 0., 0., 1., 0., 1., 1., 0., 1., 0., 1., 0., 1., 0.,\n",
       "       1., 1., 0., 0., 0., 0., 1., 1., 0., 1., 0., 1., 0., 0., 0., 0., 1.,\n",
       "       1., 0., 1., 0., 1., 0., 0., 0., 0., 0., 1., 0., 0., 0., 0., 1., 0.,\n",
       "       0., 1., 1., 1., 0., 0., 1., 0., 0., 1., 0., 0., 0., 1., 0., 0., 1.,\n",
       "       0., 0., 0., 0., 0., 0., 0., 0., 0., 1., 0., 0., 0., 0., 0., 0., 0.,\n",
       "       1., 0., 0., 0., 1., 0., 0., 0., 1., 1., 0., 0., 0., 0., 0., 0., 0.,\n",
       "       1., 0., 0., 0., 0., 1., 0., 0., 0., 1., 0., 0., 0., 1., 0., 0., 0.,\n",
       "       1., 0., 0., 0., 0., 1., 1., 0., 0., 0., 0., 0., 0., 1., 0., 0., 0.,\n",
       "       0., 0., 0., 0., 0., 0., 0., 0., 1., 0., 0., 0., 1., 1., 1., 1., 0.,\n",
       "       0., 1., 1., 0., 0., 0., 0., 0., 0., 0., 0., 0., 0., 0., 0., 0., 1.,\n",
       "       1., 0., 0., 0., 0., 0., 0., 0., 1., 0., 0., 0., 0., 0., 0., 0., 1.,\n",
       "       0., 1., 1., 0., 0., 0., 1., 0., 1., 0., 1., 0., 1., 0., 1., 0., 0.,\n",
       "       1., 0., 0., 1., 0., 0., 0., 0., 1., 1., 0., 1., 0., 0., 0., 0., 1.,\n",
       "       1., 0., 1., 0., 0., 0., 1., 1., 0., 0., 0., 0., 0., 0., 0., 0., 0.,\n",
       "       0., 1., 0., 0., 0., 0., 1., 0., 0., 1., 0., 0., 0., 1., 0., 0., 0.,\n",
       "       1., 1., 1., 0., 0., 0., 0., 0., 0., 1., 0., 0., 0., 1., 0., 1., 1.,\n",
       "       1., 1., 0., 1., 1., 0., 0., 0., 0., 0., 0., 0., 1., 1., 0., 1., 0.,\n",
       "       0., 1., 0., 1., 0., 0., 0., 0., 0., 1., 0., 1., 0., 1., 0., 1., 1.,\n",
       "       0., 0., 0., 0., 1., 1., 0., 0., 0., 1., 0., 1., 1., 0., 0., 1., 0.,\n",
       "       0., 1., 1., 0., 0., 1., 0., 0., 1., 0., 0., 0., 0., 0., 0., 0., 1.,\n",
       "       1., 1., 0., 0., 0., 0., 0., 0., 1., 1., 0., 0., 1., 0., 0., 1., 0.,\n",
       "       1., 1., 1., 0., 0., 1., 1., 1., 0., 1., 0., 1., 0., 1., 0., 0., 0.,\n",
       "       0., 1., 0.])"
      ]
     },
     "execution_count": 16,
     "metadata": {},
     "output_type": "execute_result"
    }
   ],
   "source": [
    "Y = data[:,8]\n",
    "Y"
   ]
  },
  {
   "cell_type": "markdown",
   "id": "fe57f6a0",
   "metadata": {},
   "source": [
    "# Define the Keras Model"
   ]
  },
  {
   "cell_type": "code",
   "execution_count": 17,
   "id": "2fda6df2",
   "metadata": {},
   "outputs": [
    {
     "name": "stderr",
     "output_type": "stream",
     "text": [
      "2022-03-25 08:51:29.721500: I tensorflow/compiler/jit/xla_cpu_device.cc:41] Not creating XLA devices, tf_xla_enable_xla_devices not set\n",
      "2022-03-25 08:51:29.722239: I tensorflow/core/platform/cpu_feature_guard.cc:142] This TensorFlow binary is optimized with oneAPI Deep Neural Network Library (oneDNN) to use the following CPU instructions in performance-critical operations:  SSE4.1 SSE4.2 AVX AVX2 FMA\n",
      "To enable them in other operations, rebuild TensorFlow with the appropriate compiler flags.\n",
      "2022-03-25 08:51:29.729207: I tensorflow/core/common_runtime/process_util.cc:146] Creating new thread pool with default inter op setting: 2. Tune using inter_op_parallelism_threads for best performance.\n"
     ]
    }
   ],
   "source": [
    "model = Sequential()\n",
    "model.add(Dense(12, input_dim=8, activation='relu')) # 12 -- means the number of neurons\n",
    "model.add(Dense(8, activation='relu')) # 8 -- means the number of neurons is 8\n",
    "model.add(Dense(1, activation='sigmoid')) # 1 means the number of neurons is 1"
   ]
  },
  {
   "cell_type": "markdown",
   "id": "504a12d8",
   "metadata": {},
   "source": [
    "# Compile the Model"
   ]
  },
  {
   "cell_type": "code",
   "execution_count": 18,
   "id": "caa5d441",
   "metadata": {},
   "outputs": [],
   "source": [
    "model.compile(loss='binary_crossentropy', optimizer='adam', metrics=['accuracy'])"
   ]
  },
  {
   "cell_type": "markdown",
   "id": "f9e325c0",
   "metadata": {},
   "source": [
    "# Fit the Model"
   ]
  },
  {
   "cell_type": "code",
   "execution_count": 19,
   "id": "22f157cb",
   "metadata": {
    "scrolled": true
   },
   "outputs": [
    {
     "name": "stderr",
     "output_type": "stream",
     "text": [
      "2022-03-25 09:06:52.334743: I tensorflow/compiler/mlir/mlir_graph_optimization_pass.cc:116] None of the MLIR optimization passes are enabled (registered 2)\n",
      "2022-03-25 09:06:52.355027: I tensorflow/core/platform/profile_utils/cpu_utils.cc:112] CPU Frequency: 2099940000 Hz\n"
     ]
    },
    {
     "name": "stdout",
     "output_type": "stream",
     "text": [
      "Epoch 1/200\n",
      "77/77 [==============================] - 1s 2ms/step - loss: 3.5290 - accuracy: 0.5824\n",
      "Epoch 2/200\n",
      "77/77 [==============================] - 0s 2ms/step - loss: 1.1663 - accuracy: 0.6148\n",
      "Epoch 3/200\n",
      "77/77 [==============================] - 0s 3ms/step - loss: 0.7695 - accuracy: 0.6486\n",
      "Epoch 4/200\n",
      "77/77 [==============================] - 0s 2ms/step - loss: 0.6897 - accuracy: 0.6588\n",
      "Epoch 5/200\n",
      "77/77 [==============================] - 0s 3ms/step - loss: 0.6838 - accuracy: 0.6489\n",
      "Epoch 6/200\n",
      "77/77 [==============================] - 0s 2ms/step - loss: 0.6651 - accuracy: 0.6621\n",
      "Epoch 7/200\n",
      "77/77 [==============================] - 0s 2ms/step - loss: 0.6476 - accuracy: 0.6644\n",
      "Epoch 8/200\n",
      "77/77 [==============================] - 0s 2ms/step - loss: 0.6222 - accuracy: 0.6631\n",
      "Epoch 9/200\n",
      "77/77 [==============================] - 0s 2ms/step - loss: 0.6116 - accuracy: 0.6732\n",
      "Epoch 10/200\n",
      "77/77 [==============================] - 0s 2ms/step - loss: 0.6197 - accuracy: 0.6921\n",
      "Epoch 11/200\n",
      "77/77 [==============================] - 0s 2ms/step - loss: 0.6062 - accuracy: 0.6840\n",
      "Epoch 12/200\n",
      "77/77 [==============================] - 0s 2ms/step - loss: 0.6167 - accuracy: 0.6752\n",
      "Epoch 13/200\n",
      "77/77 [==============================] - 0s 2ms/step - loss: 0.6138 - accuracy: 0.6915\n",
      "Epoch 14/200\n",
      "77/77 [==============================] - 0s 2ms/step - loss: 0.6051 - accuracy: 0.6788\n",
      "Epoch 15/200\n",
      "77/77 [==============================] - 0s 2ms/step - loss: 0.5775 - accuracy: 0.7430\n",
      "Epoch 16/200\n",
      "77/77 [==============================] - 0s 2ms/step - loss: 0.6111 - accuracy: 0.6979\n",
      "Epoch 17/200\n",
      "77/77 [==============================] - 0s 2ms/step - loss: 0.5978 - accuracy: 0.6909\n",
      "Epoch 18/200\n",
      "77/77 [==============================] - 0s 2ms/step - loss: 0.6042 - accuracy: 0.6633\n",
      "Epoch 19/200\n",
      "77/77 [==============================] - 0s 2ms/step - loss: 0.5767 - accuracy: 0.7176\n",
      "Epoch 20/200\n",
      "77/77 [==============================] - 0s 2ms/step - loss: 0.5834 - accuracy: 0.6819\n",
      "Epoch 21/200\n",
      "77/77 [==============================] - 0s 2ms/step - loss: 0.5468 - accuracy: 0.7400\n",
      "Epoch 22/200\n",
      "77/77 [==============================] - 0s 2ms/step - loss: 0.5778 - accuracy: 0.6873\n",
      "Epoch 23/200\n",
      "77/77 [==============================] - 0s 2ms/step - loss: 0.5620 - accuracy: 0.7230\n",
      "Epoch 24/200\n",
      "77/77 [==============================] - 0s 2ms/step - loss: 0.5457 - accuracy: 0.7314\n",
      "Epoch 25/200\n",
      "77/77 [==============================] - 0s 2ms/step - loss: 0.5643 - accuracy: 0.7137\n",
      "Epoch 26/200\n",
      "77/77 [==============================] - 0s 2ms/step - loss: 0.5595 - accuracy: 0.7291\n",
      "Epoch 27/200\n",
      "77/77 [==============================] - 0s 2ms/step - loss: 0.5575 - accuracy: 0.7160\n",
      "Epoch 28/200\n",
      "77/77 [==============================] - 0s 2ms/step - loss: 0.5703 - accuracy: 0.7205\n",
      "Epoch 29/200\n",
      "77/77 [==============================] - 0s 2ms/step - loss: 0.5405 - accuracy: 0.7422\n",
      "Epoch 30/200\n",
      "77/77 [==============================] - 0s 2ms/step - loss: 0.5716 - accuracy: 0.6880\n",
      "Epoch 31/200\n",
      "77/77 [==============================] - 0s 2ms/step - loss: 0.5471 - accuracy: 0.7284\n",
      "Epoch 32/200\n",
      "77/77 [==============================] - 0s 3ms/step - loss: 0.5649 - accuracy: 0.7216\n",
      "Epoch 33/200\n",
      "77/77 [==============================] - 0s 3ms/step - loss: 0.5737 - accuracy: 0.7122\n",
      "Epoch 34/200\n",
      "77/77 [==============================] - 0s 3ms/step - loss: 0.5399 - accuracy: 0.7041\n",
      "Epoch 35/200\n",
      "77/77 [==============================] - 0s 1ms/step - loss: 0.5550 - accuracy: 0.7097\n",
      "Epoch 36/200\n",
      "77/77 [==============================] - 0s 3ms/step - loss: 0.5485 - accuracy: 0.7100\n",
      "Epoch 37/200\n",
      "77/77 [==============================] - 0s 3ms/step - loss: 0.5536 - accuracy: 0.7098\n",
      "Epoch 38/200\n",
      "77/77 [==============================] - 0s 2ms/step - loss: 0.5606 - accuracy: 0.7073\n",
      "Epoch 39/200\n",
      "77/77 [==============================] - 0s 2ms/step - loss: 0.5692 - accuracy: 0.7164\n",
      "Epoch 40/200\n",
      "77/77 [==============================] - 0s 2ms/step - loss: 0.5318 - accuracy: 0.7241\n",
      "Epoch 41/200\n",
      "77/77 [==============================] - 0s 3ms/step - loss: 0.5642 - accuracy: 0.6946\n",
      "Epoch 42/200\n",
      "77/77 [==============================] - 0s 2ms/step - loss: 0.4905 - accuracy: 0.7774\n",
      "Epoch 43/200\n",
      "77/77 [==============================] - 0s 2ms/step - loss: 0.5280 - accuracy: 0.7569\n",
      "Epoch 44/200\n",
      "77/77 [==============================] - 0s 2ms/step - loss: 0.5363 - accuracy: 0.7269\n",
      "Epoch 45/200\n",
      "77/77 [==============================] - 0s 2ms/step - loss: 0.5414 - accuracy: 0.7249\n",
      "Epoch 46/200\n",
      "77/77 [==============================] - 0s 2ms/step - loss: 0.5453 - accuracy: 0.7387\n",
      "Epoch 47/200\n",
      "77/77 [==============================] - 0s 2ms/step - loss: 0.5492 - accuracy: 0.7344\n",
      "Epoch 48/200\n",
      "77/77 [==============================] - 0s 2ms/step - loss: 0.5604 - accuracy: 0.7048\n",
      "Epoch 49/200\n",
      "77/77 [==============================] - 0s 2ms/step - loss: 0.5147 - accuracy: 0.7554\n",
      "Epoch 50/200\n",
      "77/77 [==============================] - 0s 2ms/step - loss: 0.5113 - accuracy: 0.7469\n",
      "Epoch 51/200\n",
      "77/77 [==============================] - 0s 2ms/step - loss: 0.5377 - accuracy: 0.7204\n",
      "Epoch 52/200\n",
      "77/77 [==============================] - 0s 2ms/step - loss: 0.5210 - accuracy: 0.7476\n",
      "Epoch 53/200\n",
      "77/77 [==============================] - 0s 1ms/step - loss: 0.5517 - accuracy: 0.7182\n",
      "Epoch 54/200\n",
      "77/77 [==============================] - 0s 3ms/step - loss: 0.5316 - accuracy: 0.7275\n",
      "Epoch 55/200\n",
      "77/77 [==============================] - 0s 2ms/step - loss: 0.5095 - accuracy: 0.7357\n",
      "Epoch 56/200\n",
      "77/77 [==============================] - 0s 2ms/step - loss: 0.5351 - accuracy: 0.7491\n",
      "Epoch 57/200\n",
      "77/77 [==============================] - 0s 2ms/step - loss: 0.5185 - accuracy: 0.7240\n",
      "Epoch 58/200\n",
      "77/77 [==============================] - 0s 2ms/step - loss: 0.5400 - accuracy: 0.7168\n",
      "Epoch 59/200\n",
      "77/77 [==============================] - 0s 2ms/step - loss: 0.5173 - accuracy: 0.7593\n",
      "Epoch 60/200\n",
      "77/77 [==============================] - 0s 2ms/step - loss: 0.5158 - accuracy: 0.7549\n",
      "Epoch 61/200\n",
      "77/77 [==============================] - 0s 2ms/step - loss: 0.5387 - accuracy: 0.7485\n",
      "Epoch 62/200\n",
      "77/77 [==============================] - 0s 2ms/step - loss: 0.5156 - accuracy: 0.7555\n",
      "Epoch 63/200\n",
      "77/77 [==============================] - 0s 2ms/step - loss: 0.4984 - accuracy: 0.7708\n",
      "Epoch 64/200\n",
      "77/77 [==============================] - 0s 2ms/step - loss: 0.4993 - accuracy: 0.7488\n",
      "Epoch 65/200\n",
      "77/77 [==============================] - 0s 2ms/step - loss: 0.5202 - accuracy: 0.7361\n",
      "Epoch 66/200\n",
      "77/77 [==============================] - 0s 2ms/step - loss: 0.4926 - accuracy: 0.7601\n",
      "Epoch 67/200\n",
      "77/77 [==============================] - 0s 2ms/step - loss: 0.5348 - accuracy: 0.7152\n",
      "Epoch 68/200\n",
      "77/77 [==============================] - 0s 2ms/step - loss: 0.5142 - accuracy: 0.7520\n",
      "Epoch 69/200\n",
      "77/77 [==============================] - 0s 2ms/step - loss: 0.5131 - accuracy: 0.7514\n",
      "Epoch 70/200\n",
      "77/77 [==============================] - 0s 2ms/step - loss: 0.5147 - accuracy: 0.7450\n",
      "Epoch 71/200\n",
      "77/77 [==============================] - 0s 2ms/step - loss: 0.4878 - accuracy: 0.7677\n",
      "Epoch 72/200\n",
      "77/77 [==============================] - 0s 2ms/step - loss: 0.5227 - accuracy: 0.7544\n",
      "Epoch 73/200\n",
      "77/77 [==============================] - 0s 2ms/step - loss: 0.5252 - accuracy: 0.7326\n",
      "Epoch 74/200\n",
      "77/77 [==============================] - 0s 2ms/step - loss: 0.5105 - accuracy: 0.7415\n",
      "Epoch 75/200\n",
      "77/77 [==============================] - 0s 2ms/step - loss: 0.4709 - accuracy: 0.7867\n",
      "Epoch 76/200\n",
      "77/77 [==============================] - 0s 2ms/step - loss: 0.4835 - accuracy: 0.7738\n",
      "Epoch 77/200\n",
      "77/77 [==============================] - 0s 2ms/step - loss: 0.4953 - accuracy: 0.7628\n",
      "Epoch 78/200\n",
      "77/77 [==============================] - 0s 2ms/step - loss: 0.5099 - accuracy: 0.7559\n",
      "Epoch 79/200\n",
      "77/77 [==============================] - 0s 2ms/step - loss: 0.4831 - accuracy: 0.7639\n",
      "Epoch 80/200\n",
      "77/77 [==============================] - 0s 2ms/step - loss: 0.4756 - accuracy: 0.7839\n",
      "Epoch 81/200\n",
      "77/77 [==============================] - 0s 2ms/step - loss: 0.4976 - accuracy: 0.7666\n",
      "Epoch 82/200\n",
      "77/77 [==============================] - 0s 2ms/step - loss: 0.4898 - accuracy: 0.7604\n",
      "Epoch 83/200\n"
     ]
    },
    {
     "name": "stdout",
     "output_type": "stream",
     "text": [
      "77/77 [==============================] - 0s 2ms/step - loss: 0.4989 - accuracy: 0.7581\n",
      "Epoch 84/200\n",
      "77/77 [==============================] - 0s 2ms/step - loss: 0.4949 - accuracy: 0.7644\n",
      "Epoch 85/200\n",
      "77/77 [==============================] - 0s 2ms/step - loss: 0.4722 - accuracy: 0.7717\n",
      "Epoch 86/200\n",
      "77/77 [==============================] - 0s 1ms/step - loss: 0.5097 - accuracy: 0.7697\n",
      "Epoch 87/200\n",
      "77/77 [==============================] - 0s 1ms/step - loss: 0.5009 - accuracy: 0.7552\n",
      "Epoch 88/200\n",
      "77/77 [==============================] - 0s 1ms/step - loss: 0.5049 - accuracy: 0.7613\n",
      "Epoch 89/200\n",
      "77/77 [==============================] - 0s 1ms/step - loss: 0.5156 - accuracy: 0.7415\n",
      "Epoch 90/200\n",
      "77/77 [==============================] - 0s 2ms/step - loss: 0.5223 - accuracy: 0.7443\n",
      "Epoch 91/200\n",
      "77/77 [==============================] - 0s 2ms/step - loss: 0.4969 - accuracy: 0.7623\n",
      "Epoch 92/200\n",
      "77/77 [==============================] - 0s 2ms/step - loss: 0.5265 - accuracy: 0.7488\n",
      "Epoch 93/200\n",
      "77/77 [==============================] - 0s 2ms/step - loss: 0.4916 - accuracy: 0.7686\n",
      "Epoch 94/200\n",
      "77/77 [==============================] - 0s 2ms/step - loss: 0.5084 - accuracy: 0.7449\n",
      "Epoch 95/200\n",
      "77/77 [==============================] - 0s 1ms/step - loss: 0.4992 - accuracy: 0.7686\n",
      "Epoch 96/200\n",
      "77/77 [==============================] - 0s 2ms/step - loss: 0.4699 - accuracy: 0.7706\n",
      "Epoch 97/200\n",
      "77/77 [==============================] - 0s 2ms/step - loss: 0.4944 - accuracy: 0.7584\n",
      "Epoch 98/200\n",
      "77/77 [==============================] - 0s 2ms/step - loss: 0.4975 - accuracy: 0.7634\n",
      "Epoch 99/200\n",
      "77/77 [==============================] - 0s 2ms/step - loss: 0.5147 - accuracy: 0.7307\n",
      "Epoch 100/200\n",
      "77/77 [==============================] - 0s 2ms/step - loss: 0.4728 - accuracy: 0.7906\n",
      "Epoch 101/200\n",
      "77/77 [==============================] - 0s 2ms/step - loss: 0.4867 - accuracy: 0.7702\n",
      "Epoch 102/200\n",
      "77/77 [==============================] - 0s 1ms/step - loss: 0.5150 - accuracy: 0.7379\n",
      "Epoch 103/200\n",
      "77/77 [==============================] - 0s 2ms/step - loss: 0.5279 - accuracy: 0.7596\n",
      "Epoch 104/200\n",
      "77/77 [==============================] - 0s 2ms/step - loss: 0.4942 - accuracy: 0.7789\n",
      "Epoch 105/200\n",
      "77/77 [==============================] - 0s 2ms/step - loss: 0.5713 - accuracy: 0.7513\n",
      "Epoch 106/200\n",
      "77/77 [==============================] - 0s 2ms/step - loss: 0.5024 - accuracy: 0.7357\n",
      "Epoch 107/200\n",
      "77/77 [==============================] - 0s 2ms/step - loss: 0.4858 - accuracy: 0.7477\n",
      "Epoch 108/200\n",
      "77/77 [==============================] - 0s 2ms/step - loss: 0.5036 - accuracy: 0.7310\n",
      "Epoch 109/200\n",
      "77/77 [==============================] - 0s 2ms/step - loss: 0.5141 - accuracy: 0.7490\n",
      "Epoch 110/200\n",
      "77/77 [==============================] - 0s 2ms/step - loss: 0.5276 - accuracy: 0.7400\n",
      "Epoch 111/200\n",
      "77/77 [==============================] - 0s 2ms/step - loss: 0.5362 - accuracy: 0.7292\n",
      "Epoch 112/200\n",
      "77/77 [==============================] - 0s 2ms/step - loss: 0.4814 - accuracy: 0.7681\n",
      "Epoch 113/200\n",
      "77/77 [==============================] - 0s 2ms/step - loss: 0.4886 - accuracy: 0.7778\n",
      "Epoch 114/200\n",
      "77/77 [==============================] - 0s 2ms/step - loss: 0.4904 - accuracy: 0.7715\n",
      "Epoch 115/200\n",
      "77/77 [==============================] - 0s 2ms/step - loss: 0.4996 - accuracy: 0.7523\n",
      "Epoch 116/200\n",
      "77/77 [==============================] - 0s 2ms/step - loss: 0.4829 - accuracy: 0.7584\n",
      "Epoch 117/200\n",
      "77/77 [==============================] - 0s 2ms/step - loss: 0.4860 - accuracy: 0.7497\n",
      "Epoch 118/200\n",
      "77/77 [==============================] - 0s 2ms/step - loss: 0.4783 - accuracy: 0.7731\n",
      "Epoch 119/200\n",
      "77/77 [==============================] - 0s 2ms/step - loss: 0.4842 - accuracy: 0.8037\n",
      "Epoch 120/200\n",
      "77/77 [==============================] - 0s 2ms/step - loss: 0.4848 - accuracy: 0.7614\n",
      "Epoch 121/200\n",
      "77/77 [==============================] - 0s 2ms/step - loss: 0.4923 - accuracy: 0.7463\n",
      "Epoch 122/200\n",
      "77/77 [==============================] - 0s 2ms/step - loss: 0.4585 - accuracy: 0.7809\n",
      "Epoch 123/200\n",
      "77/77 [==============================] - 0s 1ms/step - loss: 0.4740 - accuracy: 0.7520\n",
      "Epoch 124/200\n",
      "77/77 [==============================] - 0s 2ms/step - loss: 0.5097 - accuracy: 0.7534\n",
      "Epoch 125/200\n",
      "77/77 [==============================] - 0s 2ms/step - loss: 0.4609 - accuracy: 0.8016\n",
      "Epoch 126/200\n",
      "77/77 [==============================] - 0s 2ms/step - loss: 0.4773 - accuracy: 0.7621\n",
      "Epoch 127/200\n",
      "77/77 [==============================] - 0s 2ms/step - loss: 0.4662 - accuracy: 0.7837\n",
      "Epoch 128/200\n",
      "77/77 [==============================] - 0s 2ms/step - loss: 0.4705 - accuracy: 0.7562\n",
      "Epoch 129/200\n",
      "77/77 [==============================] - 0s 2ms/step - loss: 0.4894 - accuracy: 0.7661\n",
      "Epoch 130/200\n",
      "77/77 [==============================] - 0s 2ms/step - loss: 0.4876 - accuracy: 0.7716\n",
      "Epoch 131/200\n",
      "77/77 [==============================] - 0s 2ms/step - loss: 0.4620 - accuracy: 0.7873\n",
      "Epoch 132/200\n",
      "77/77 [==============================] - 0s 2ms/step - loss: 0.4691 - accuracy: 0.7701\n",
      "Epoch 133/200\n",
      "77/77 [==============================] - 0s 2ms/step - loss: 0.4466 - accuracy: 0.7983\n",
      "Epoch 134/200\n",
      "77/77 [==============================] - 0s 2ms/step - loss: 0.5086 - accuracy: 0.7346\n",
      "Epoch 135/200\n",
      "77/77 [==============================] - 0s 2ms/step - loss: 0.4947 - accuracy: 0.7698\n",
      "Epoch 136/200\n",
      "77/77 [==============================] - 0s 2ms/step - loss: 0.4848 - accuracy: 0.7667\n",
      "Epoch 137/200\n",
      "77/77 [==============================] - 0s 2ms/step - loss: 0.4714 - accuracy: 0.7807\n",
      "Epoch 138/200\n",
      "77/77 [==============================] - 0s 2ms/step - loss: 0.4707 - accuracy: 0.7738\n",
      "Epoch 139/200\n",
      "77/77 [==============================] - 0s 2ms/step - loss: 0.4760 - accuracy: 0.7663\n",
      "Epoch 140/200\n",
      "77/77 [==============================] - 0s 2ms/step - loss: 0.4660 - accuracy: 0.7853\n",
      "Epoch 141/200\n",
      "77/77 [==============================] - 0s 2ms/step - loss: 0.4938 - accuracy: 0.7452\n",
      "Epoch 142/200\n",
      "77/77 [==============================] - 0s 2ms/step - loss: 0.4653 - accuracy: 0.7892\n",
      "Epoch 143/200\n",
      "77/77 [==============================] - 0s 2ms/step - loss: 0.4732 - accuracy: 0.7498\n",
      "Epoch 144/200\n",
      "77/77 [==============================] - 0s 2ms/step - loss: 0.5071 - accuracy: 0.7408\n",
      "Epoch 145/200\n",
      "77/77 [==============================] - 0s 3ms/step - loss: 0.4993 - accuracy: 0.7754\n",
      "Epoch 146/200\n",
      "77/77 [==============================] - 0s 2ms/step - loss: 0.4934 - accuracy: 0.7636\n",
      "Epoch 147/200\n",
      "77/77 [==============================] - 0s 4ms/step - loss: 0.4772 - accuracy: 0.7595\n",
      "Epoch 148/200\n",
      "77/77 [==============================] - 0s 2ms/step - loss: 0.4532 - accuracy: 0.7810\n",
      "Epoch 149/200\n",
      "77/77 [==============================] - 0s 2ms/step - loss: 0.4597 - accuracy: 0.7715\n",
      "Epoch 150/200\n",
      "77/77 [==============================] - 0s 2ms/step - loss: 0.4814 - accuracy: 0.7709\n",
      "Epoch 151/200\n",
      "77/77 [==============================] - 0s 2ms/step - loss: 0.4800 - accuracy: 0.7652\n",
      "Epoch 152/200\n",
      "77/77 [==============================] - 0s 2ms/step - loss: 0.4739 - accuracy: 0.7744\n",
      "Epoch 153/200\n",
      "77/77 [==============================] - 0s 2ms/step - loss: 0.4886 - accuracy: 0.7795\n",
      "Epoch 154/200\n",
      "77/77 [==============================] - 0s 2ms/step - loss: 0.4845 - accuracy: 0.7545\n",
      "Epoch 155/200\n",
      "77/77 [==============================] - 0s 2ms/step - loss: 0.4753 - accuracy: 0.7826\n",
      "Epoch 156/200\n",
      "77/77 [==============================] - 0s 2ms/step - loss: 0.4579 - accuracy: 0.7835\n",
      "Epoch 157/200\n",
      "77/77 [==============================] - 0s 3ms/step - loss: 0.4658 - accuracy: 0.7644\n",
      "Epoch 158/200\n",
      "77/77 [==============================] - 0s 2ms/step - loss: 0.4528 - accuracy: 0.7949\n",
      "Epoch 159/200\n",
      "77/77 [==============================] - 0s 2ms/step - loss: 0.4706 - accuracy: 0.7661\n",
      "Epoch 160/200\n",
      "77/77 [==============================] - 0s 2ms/step - loss: 0.4508 - accuracy: 0.7953\n",
      "Epoch 161/200\n",
      "77/77 [==============================] - 0s 2ms/step - loss: 0.4630 - accuracy: 0.7733\n",
      "Epoch 162/200\n",
      "77/77 [==============================] - 0s 2ms/step - loss: 0.4703 - accuracy: 0.7692\n",
      "Epoch 163/200\n",
      "77/77 [==============================] - 0s 2ms/step - loss: 0.4759 - accuracy: 0.7728\n",
      "Epoch 164/200\n"
     ]
    },
    {
     "name": "stdout",
     "output_type": "stream",
     "text": [
      "77/77 [==============================] - 0s 2ms/step - loss: 0.4635 - accuracy: 0.7896\n",
      "Epoch 165/200\n",
      "77/77 [==============================] - 0s 2ms/step - loss: 0.4936 - accuracy: 0.7666\n",
      "Epoch 166/200\n",
      "77/77 [==============================] - 0s 2ms/step - loss: 0.4527 - accuracy: 0.7817\n",
      "Epoch 167/200\n",
      "77/77 [==============================] - 0s 2ms/step - loss: 0.4889 - accuracy: 0.7729\n",
      "Epoch 168/200\n",
      "77/77 [==============================] - 0s 2ms/step - loss: 0.4583 - accuracy: 0.7753\n",
      "Epoch 169/200\n",
      "77/77 [==============================] - 0s 2ms/step - loss: 0.4548 - accuracy: 0.7836\n",
      "Epoch 170/200\n",
      "77/77 [==============================] - 0s 2ms/step - loss: 0.4610 - accuracy: 0.7830\n",
      "Epoch 171/200\n",
      "77/77 [==============================] - 0s 2ms/step - loss: 0.4596 - accuracy: 0.7911\n",
      "Epoch 172/200\n",
      "77/77 [==============================] - 0s 2ms/step - loss: 0.4672 - accuracy: 0.7809\n",
      "Epoch 173/200\n",
      "77/77 [==============================] - 0s 2ms/step - loss: 0.4511 - accuracy: 0.7671\n",
      "Epoch 174/200\n",
      "77/77 [==============================] - 0s 2ms/step - loss: 0.4746 - accuracy: 0.7746\n",
      "Epoch 175/200\n",
      "77/77 [==============================] - 0s 2ms/step - loss: 0.4829 - accuracy: 0.7679\n",
      "Epoch 176/200\n",
      "77/77 [==============================] - 0s 2ms/step - loss: 0.4486 - accuracy: 0.8119\n",
      "Epoch 177/200\n",
      "77/77 [==============================] - 0s 2ms/step - loss: 0.4545 - accuracy: 0.7731\n",
      "Epoch 178/200\n",
      "77/77 [==============================] - 0s 2ms/step - loss: 0.4759 - accuracy: 0.7726\n",
      "Epoch 179/200\n",
      "77/77 [==============================] - 0s 2ms/step - loss: 0.4250 - accuracy: 0.8055\n",
      "Epoch 180/200\n",
      "77/77 [==============================] - 0s 2ms/step - loss: 0.4333 - accuracy: 0.7785\n",
      "Epoch 181/200\n",
      "77/77 [==============================] - 0s 2ms/step - loss: 0.4657 - accuracy: 0.7729\n",
      "Epoch 182/200\n",
      "77/77 [==============================] - 0s 2ms/step - loss: 0.4642 - accuracy: 0.7837\n",
      "Epoch 183/200\n",
      "77/77 [==============================] - 0s 2ms/step - loss: 0.4694 - accuracy: 0.7783\n",
      "Epoch 184/200\n",
      "77/77 [==============================] - 0s 2ms/step - loss: 0.4944 - accuracy: 0.7617\n",
      "Epoch 185/200\n",
      "77/77 [==============================] - 0s 2ms/step - loss: 0.4894 - accuracy: 0.7548\n",
      "Epoch 186/200\n",
      "77/77 [==============================] - 0s 2ms/step - loss: 0.4324 - accuracy: 0.8012\n",
      "Epoch 187/200\n",
      "77/77 [==============================] - 0s 2ms/step - loss: 0.4844 - accuracy: 0.7539\n",
      "Epoch 188/200\n",
      "77/77 [==============================] - 0s 2ms/step - loss: 0.4666 - accuracy: 0.7623\n",
      "Epoch 189/200\n",
      "77/77 [==============================] - 0s 2ms/step - loss: 0.4788 - accuracy: 0.7377\n",
      "Epoch 190/200\n",
      "77/77 [==============================] - 0s 2ms/step - loss: 0.4377 - accuracy: 0.8001\n",
      "Epoch 191/200\n",
      "77/77 [==============================] - 0s 2ms/step - loss: 0.4680 - accuracy: 0.7550\n",
      "Epoch 192/200\n",
      "77/77 [==============================] - 0s 2ms/step - loss: 0.4491 - accuracy: 0.7783\n",
      "Epoch 193/200\n",
      "77/77 [==============================] - 0s 2ms/step - loss: 0.4624 - accuracy: 0.7577\n",
      "Epoch 194/200\n",
      "77/77 [==============================] - 0s 2ms/step - loss: 0.4472 - accuracy: 0.7953\n",
      "Epoch 195/200\n",
      "77/77 [==============================] - 0s 2ms/step - loss: 0.4524 - accuracy: 0.7795\n",
      "Epoch 196/200\n",
      "77/77 [==============================] - 0s 2ms/step - loss: 0.4641 - accuracy: 0.7831\n",
      "Epoch 197/200\n",
      "77/77 [==============================] - 0s 2ms/step - loss: 0.4488 - accuracy: 0.7927\n",
      "Epoch 198/200\n",
      "77/77 [==============================] - 0s 2ms/step - loss: 0.4602 - accuracy: 0.7814\n",
      "Epoch 199/200\n",
      "77/77 [==============================] - 0s 2ms/step - loss: 0.4636 - accuracy: 0.7823\n",
      "Epoch 200/200\n",
      "77/77 [==============================] - 0s 2ms/step - loss: 0.4419 - accuracy: 0.7873\n"
     ]
    },
    {
     "data": {
      "text/plain": [
       "<tensorflow.python.keras.callbacks.History at 0x7f2d320cc370>"
      ]
     },
     "execution_count": 19,
     "metadata": {},
     "output_type": "execute_result"
    }
   ],
   "source": [
    "model.fit(X,Y, epochs=200, batch_size=10)"
   ]
  },
  {
   "cell_type": "markdown",
   "id": "25a83a18",
   "metadata": {},
   "source": [
    "# Evaluate the Model"
   ]
  },
  {
   "cell_type": "code",
   "execution_count": 21,
   "id": "17c37ff2",
   "metadata": {},
   "outputs": [
    {
     "name": "stdout",
     "output_type": "stream",
     "text": [
      "24/24 [==============================] - 0s 4ms/step - loss: 0.4429 - accuracy: 0.8034\n",
      "Accuracy: 80.34\n"
     ]
    }
   ],
   "source": [
    "_,accuracy = model.evaluate(X,Y)\n",
    "print('Accuracy: %.2f'%(accuracy*100))"
   ]
  },
  {
   "cell_type": "markdown",
   "id": "a430761b",
   "metadata": {},
   "source": [
    "# Predict the Model"
   ]
  },
  {
   "cell_type": "code",
   "execution_count": 24,
   "id": "e91a4786",
   "metadata": {},
   "outputs": [],
   "source": [
    "Xp = array([[6.0, 158.0, 72.0, 35.0, 0.0, 55.5, 0.627, 50.0]])\n",
    "Yp = model.predict(Xp)"
   ]
  },
  {
   "cell_type": "code",
   "execution_count": 30,
   "id": "53664eec",
   "metadata": {},
   "outputs": [
    {
     "name": "stdout",
     "output_type": "stream",
     "text": [
      "[  6.    158.     72.     35.      0.     55.5     0.627  50.   ]\n"
     ]
    }
   ],
   "source": [
    "print(Xp[0])"
   ]
  },
  {
   "cell_type": "code",
   "execution_count": 33,
   "id": "cab6ead8",
   "metadata": {},
   "outputs": [
    {
     "name": "stdout",
     "output_type": "stream",
     "text": [
      "[0.95639265]\n"
     ]
    }
   ],
   "source": [
    "print(Yp[0])"
   ]
  }
 ],
 "metadata": {
  "kernelspec": {
   "display_name": "Python 3 (ipykernel)",
   "language": "python",
   "name": "python3"
  },
  "language_info": {
   "codemirror_mode": {
    "name": "ipython",
    "version": 3
   },
   "file_extension": ".py",
   "mimetype": "text/x-python",
   "name": "python",
   "nbconvert_exporter": "python",
   "pygments_lexer": "ipython3",
   "version": "3.9.7"
  }
 },
 "nbformat": 4,
 "nbformat_minor": 5
}
