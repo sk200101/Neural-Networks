{
 "cells": [
  {
   "cell_type": "markdown",
   "id": "49be8226",
   "metadata": {},
   "source": [
    "# Import Libraries"
   ]
  },
  {
   "cell_type": "code",
   "execution_count": 1,
   "id": "58ed40b1",
   "metadata": {},
   "outputs": [],
   "source": [
    "import numpy as np\n",
    "import pandas as pd\n",
    "import networkx.drawing.nx_pydot as g1\n",
    "import networkx as nx\n",
    "import matplotlib.pyplot as plt\n",
    "from pprint import pprint"
   ]
  },
  {
   "cell_type": "markdown",
   "id": "584919f6",
   "metadata": {},
   "source": [
    "# Create state space and initial state probabilities"
   ]
  },
  {
   "cell_type": "code",
   "execution_count": 2,
   "id": "8ae84438",
   "metadata": {},
   "outputs": [
    {
     "name": "stdout",
     "output_type": "stream",
     "text": [
      "O1    0.25\n",
      "O2    0.40\n",
      "O3    0.35\n",
      "Name: states, dtype: float64\n"
     ]
    }
   ],
   "source": [
    "states = ['O1', 'O2', 'O3']\n",
    "pi = [0.25, 0.4, 0.35]\n",
    "state_space = pd.Series(pi, index=states, name='states')\n",
    "print(state_space)"
   ]
  },
  {
   "cell_type": "code",
   "execution_count": 3,
   "id": "91b2a93f",
   "metadata": {},
   "outputs": [
    {
     "name": "stdout",
     "output_type": "stream",
     "text": [
      "1.0\n"
     ]
    }
   ],
   "source": [
    "print(state_space.sum())"
   ]
  },
  {
   "cell_type": "markdown",
   "id": "46286358",
   "metadata": {},
   "source": [
    "# Transition Matrix"
   ]
  },
  {
   "cell_type": "code",
   "execution_count": 4,
   "id": "e58b858b",
   "metadata": {},
   "outputs": [
    {
     "name": "stdout",
     "output_type": "stream",
     "text": [
      "      O1    O2   O3\n",
      "O1   0.4   0.2  0.4\n",
      "O2  0.45  0.45  0.1\n",
      "O3  0.45  0.25  0.3\n"
     ]
    }
   ],
   "source": [
    "q_df = pd.DataFrame(columns=states, index=states)\n",
    "q_df.loc[states[0]] = [0.4,0.2,0.4]\n",
    "q_df.loc[states[1]] = [0.45,0.45,0.1]\n",
    "q_df.loc[states[2]] = [0.45,0.25,0.3]\n",
    "\n",
    "print(q_df)"
   ]
  },
  {
   "cell_type": "code",
   "execution_count": 5,
   "id": "fcdf1ce8",
   "metadata": {},
   "outputs": [
    {
     "name": "stdout",
     "output_type": "stream",
     "text": [
      "[[0.4 0.2 0.4]\n",
      " [0.45 0.45 0.1]\n",
      " [0.45 0.25 0.3]] (3, 3)\n"
     ]
    }
   ],
   "source": [
    "q = q_df.values\n",
    "\n",
    "print(q, q.shape)"
   ]
  },
  {
   "cell_type": "code",
   "execution_count": 6,
   "id": "c6f917c1",
   "metadata": {},
   "outputs": [
    {
     "name": "stdout",
     "output_type": "stream",
     "text": [
      "O1    1.0\n",
      "O2    1.0\n",
      "O3    1.0\n",
      "dtype: float64\n"
     ]
    }
   ],
   "source": [
    "print(q_df.sum(axis=1))"
   ]
  },
  {
   "cell_type": "markdown",
   "id": "c6ce2458",
   "metadata": {},
   "source": [
    "# Create a function that maps transition probability dataframe to markov edges and weigts"
   ]
  },
  {
   "cell_type": "code",
   "execution_count": 7,
   "id": "19023eb3",
   "metadata": {},
   "outputs": [
    {
     "name": "stdout",
     "output_type": "stream",
     "text": [
      "{('O1', 'O1'): 0.4,\n",
      " ('O1', 'O2'): 0.2,\n",
      " ('O1', 'O3'): 0.4,\n",
      " ('O2', 'O1'): 0.45,\n",
      " ('O2', 'O2'): 0.45,\n",
      " ('O2', 'O3'): 0.1,\n",
      " ('O3', 'O1'): 0.45,\n",
      " ('O3', 'O2'): 0.25,\n",
      " ('O3', 'O3'): 0.3}\n"
     ]
    }
   ],
   "source": [
    "def _get_markov_edges(Q):\n",
    "    edges = {}\n",
    "    for col in Q.columns:\n",
    "        for idx in Q.index:\n",
    "            edges[(idx,col)] = Q.loc[idx,col]\n",
    "    return edges\n",
    "\n",
    "edges_wts = _get_markov_edges(q_df)\n",
    "pprint(edges_wts)"
   ]
  },
  {
   "cell_type": "markdown",
   "id": "54cbe0fa",
   "metadata": {},
   "source": [
    "# Create graph object"
   ]
  },
  {
   "cell_type": "code",
   "execution_count": 8,
   "id": "8f067ba7",
   "metadata": {},
   "outputs": [],
   "source": [
    "G = nx.MultiDiGraph()"
   ]
  },
  {
   "cell_type": "code",
   "execution_count": 9,
   "id": "8ccb6410",
   "metadata": {},
   "outputs": [],
   "source": [
    "G.add_nodes_from(states)  # nodes correspond to states"
   ]
  },
  {
   "cell_type": "code",
   "execution_count": 10,
   "id": "2ff64c44",
   "metadata": {},
   "outputs": [
    {
     "data": {
      "text/plain": [
       "NodeView(('O1', 'O2', 'O3'))"
      ]
     },
     "execution_count": 10,
     "metadata": {},
     "output_type": "execute_result"
    }
   ],
   "source": [
    "G.nodes()"
   ]
  },
  {
   "cell_type": "code",
   "execution_count": 11,
   "id": "8ddc3068",
   "metadata": {},
   "outputs": [
    {
     "name": "stdout",
     "output_type": "stream",
     "text": [
      "Edges:\n",
      "OutMultiEdgeDataView([('O1', 'O1', {'weight': 0.4, 'label': 0.4}), ('O1', 'O2', {'weight': 0.2, 'label': 0.2}), ('O1', 'O3', {'weight': 0.4, 'label': 0.4}), ('O2', 'O1', {'weight': 0.45, 'label': 0.45}), ('O2', 'O2', {'weight': 0.45, 'label': 0.45}), ('O2', 'O3', {'weight': 0.1, 'label': 0.1}), ('O3', 'O1', {'weight': 0.45, 'label': 0.45}), ('O3', 'O2', {'weight': 0.25, 'label': 0.25}), ('O3', 'O3', {'weight': 0.3, 'label': 0.3})])\n"
     ]
    }
   ],
   "source": [
    "# edges represent transition probabilities\n",
    "\n",
    "for k, v in edges_wts.items():\n",
    "    tmp_origin, tmp_destination = k[0], k[1]\n",
    "    G.add_edge(tmp_origin, tmp_destination, weight=v, label=v)\n",
    "\n",
    "print('Edges:')\n",
    "pprint(G.edges(data=True))"
   ]
  },
  {
   "cell_type": "code",
   "execution_count": 12,
   "id": "0c135fb3",
   "metadata": {
    "scrolled": true
   },
   "outputs": [
    {
     "data": {
      "image/png": "[encoded data removed]",
      "text/plain": [
       "<Figure size 432x288 with 1 Axes>"
      ]
     },
     "metadata": {},
     "output_type": "display_data"
    }
   ],
   "source": [
    "pos = nx.drawing.nx_pydot.graphviz_layout(G, prog='dot')\n",
    "nx.draw_networkx(G, pos)\n",
    "edge_labels = {(n1,n2) :d['label'] for n1,n2,d in G.edges(data=True)}\n",
    "nx.draw_networkx_edge_labels(G, pos, edge_labels=edge_labels)\n",
    "g1.write_dot(G, 'markov.dot')\n",
    "plt.show()"
   ]
  },
  {
   "cell_type": "markdown",
   "id": "5efbae2d",
   "metadata": {},
   "source": [
    "# Create edge labels"
   ]
  },
  {
   "cell_type": "markdown",
   "id": "d64a1ff4",
   "metadata": {},
   "source": [
    "# Create state space and initialize state probabilities"
   ]
  },
  {
   "cell_type": "code",
   "execution_count": 13,
   "id": "e450580e",
   "metadata": {},
   "outputs": [
    {
     "name": "stdout",
     "output_type": "stream",
     "text": [
      "S1    0.5\n",
      "S2    0.5\n",
      "Name: states, dtype: float64\n"
     ]
    }
   ],
   "source": [
    "hidden_states = ['S1','S2']\n",
    "pi = [0.5, 0.5]\n",
    "\n",
    "state_space = pd.Series(pi, index=hidden_states, name='states')\n",
    "print(state_space)"
   ]
  },
  {
   "cell_type": "code",
   "execution_count": 14,
   "id": "1f75cc22",
   "metadata": {},
   "outputs": [
    {
     "name": "stdout",
     "output_type": "stream",
     "text": [
      "1.0\n"
     ]
    }
   ],
   "source": [
    "print(state_space.sum())"
   ]
  },
  {
   "cell_type": "markdown",
   "id": "c2349955",
   "metadata": {},
   "source": [
    "# Create Hidden transition matrix"
   ]
  },
  {
   "cell_type": "code",
   "execution_count": 15,
   "id": "a8884f97",
   "metadata": {},
   "outputs": [
    {
     "name": "stdout",
     "output_type": "stream",
     "text": [
      "     S1   S2\n",
      "S1  0.7  0.3\n",
      "S2  0.4  0.6\n"
     ]
    }
   ],
   "source": [
    "a_df = pd.DataFrame(columns=hidden_states, index=hidden_states)\n",
    "a_df.loc[hidden_states[0]] = [0.7, 0.3]\n",
    "a_df.loc[hidden_states[1]] = [0.4, 0.6]\n",
    "print(a_df)"
   ]
  },
  {
   "cell_type": "code",
   "execution_count": 16,
   "id": "6d3286b0",
   "metadata": {},
   "outputs": [
    {
     "name": "stdout",
     "output_type": "stream",
     "text": [
      "[[0.7 0.3]\n",
      " [0.4 0.6]]\n"
     ]
    }
   ],
   "source": [
    "a = a_df.values\n",
    "print(a)"
   ]
  },
  {
   "cell_type": "code",
   "execution_count": 17,
   "id": "a317db0d",
   "metadata": {},
   "outputs": [
    {
     "name": "stdout",
     "output_type": "stream",
     "text": [
      "(2, 2)\n"
     ]
    }
   ],
   "source": [
    "print(a.shape)"
   ]
  },
  {
   "cell_type": "code",
   "execution_count": 18,
   "id": "9a8b9632",
   "metadata": {},
   "outputs": [
    {
     "name": "stdout",
     "output_type": "stream",
     "text": [
      "S1    1.0\n",
      "S2    1.0\n",
      "dtype: float64\n"
     ]
    }
   ],
   "source": [
    "print(a_df.sum(axis=1))"
   ]
  },
  {
   "cell_type": "markdown",
   "id": "e2125936",
   "metadata": {},
   "source": [
    "# Create matrix of observation probabilities"
   ]
  },
  {
   "cell_type": "code",
   "execution_count": 19,
   "id": "5afe6767",
   "metadata": {},
   "outputs": [
    {
     "name": "stdout",
     "output_type": "stream",
     "text": [
      "     O1   O2   O3\n",
      "S1  0.2  0.6  0.2\n",
      "S2  0.4  0.1  0.5\n"
     ]
    }
   ],
   "source": [
    "observable_states = states\n",
    "\n",
    "b_df = pd.DataFrame(columns=observable_states, index=hidden_states)\n",
    "b_df.loc[hidden_states[0]] = [0.2, 0.6, 0.2]\n",
    "b_df.loc[hidden_states[1]] = [0.4, 0.1, 0.5]\n",
    "\n",
    "print(b_df)"
   ]
  },
  {
   "cell_type": "code",
   "execution_count": 20,
   "id": "8ac1930d",
   "metadata": {},
   "outputs": [
    {
     "name": "stdout",
     "output_type": "stream",
     "text": [
      "[[0.2 0.6 0.2]\n",
      " [0.4 0.1 0.5]]\n"
     ]
    }
   ],
   "source": [
    "b = b_df.values\n",
    "print(b)"
   ]
  },
  {
   "cell_type": "code",
   "execution_count": 21,
   "id": "24baa514",
   "metadata": {},
   "outputs": [
    {
     "name": "stdout",
     "output_type": "stream",
     "text": [
      "(2, 3)\n"
     ]
    }
   ],
   "source": [
    "print(b.shape)"
   ]
  },
  {
   "cell_type": "code",
   "execution_count": 22,
   "id": "93c65086",
   "metadata": {},
   "outputs": [
    {
     "name": "stdout",
     "output_type": "stream",
     "text": [
      "S1    1.0\n",
      "S2    1.0\n",
      "dtype: float64\n"
     ]
    }
   ],
   "source": [
    "print(b_df.sum(axis=1))"
   ]
  },
  {
   "cell_type": "markdown",
   "id": "cf761226",
   "metadata": {},
   "source": [
    "# Create graph edges and weights"
   ]
  },
  {
   "cell_type": "code",
   "execution_count": 23,
   "id": "92eba43d",
   "metadata": {},
   "outputs": [
    {
     "name": "stdout",
     "output_type": "stream",
     "text": [
      "{('S1', 'S1'): 0.7, ('S1', 'S2'): 0.3, ('S2', 'S1'): 0.4, ('S2', 'S2'): 0.6}\n"
     ]
    }
   ],
   "source": [
    "hide_edges_wts = _get_markov_edges(a_df)\n",
    "pprint(hide_edges_wts)"
   ]
  },
  {
   "cell_type": "code",
   "execution_count": 24,
   "id": "485b0721",
   "metadata": {},
   "outputs": [
    {
     "name": "stdout",
     "output_type": "stream",
     "text": [
      "{('S1', 'O1'): 0.2,\n",
      " ('S1', 'O2'): 0.6,\n",
      " ('S1', 'O3'): 0.2,\n",
      " ('S2', 'O1'): 0.4,\n",
      " ('S2', 'O2'): 0.1,\n",
      " ('S2', 'O3'): 0.5}\n"
     ]
    }
   ],
   "source": [
    "emit_edges_wts = _get_markov_edges(b_df)\n",
    "pprint(emit_edges_wts)"
   ]
  },
  {
   "cell_type": "markdown",
   "id": "7b77ae52",
   "metadata": {},
   "source": [
    "# Create graph object"
   ]
  },
  {
   "cell_type": "code",
   "execution_count": 25,
   "id": "d74aa2cc",
   "metadata": {},
   "outputs": [],
   "source": [
    "G = nx.MultiDiGraph()"
   ]
  },
  {
   "cell_type": "code",
   "execution_count": 26,
   "id": "eccba570",
   "metadata": {},
   "outputs": [
    {
     "name": "stdout",
     "output_type": "stream",
     "text": [
      "['S1', 'S2']\n"
     ]
    }
   ],
   "source": [
    "G.add_nodes_from(hidden_states)\n",
    "print(G.nodes())"
   ]
  },
  {
   "cell_type": "code",
   "execution_count": 27,
   "id": "928bcb23",
   "metadata": {},
   "outputs": [
    {
     "name": "stdout",
     "output_type": "stream",
     "text": [
      "Edges:\n",
      "OutMultiEdgeDataView([('S1', 'S1', {'weight': 0.7, 'label': 0.7}), ('S1', 'S2', {'weight': 0.3, 'label': 0.3}), ('S1', 'O1', {'weight': 0.2, 'label': 0.2}), ('S1', 'O2', {'weight': 0.6, 'label': 0.6}), ('S1', 'O3', {'weight': 0.2, 'label': 0.2}), ('S2', 'S1', {'weight': 0.4, 'label': 0.4}), ('S2', 'S2', {'weight': 0.6, 'label': 0.6}), ('S2', 'O1', {'weight': 0.4, 'label': 0.4}), ('S2', 'O2', {'weight': 0.1, 'label': 0.1}), ('S2', 'O3', {'weight': 0.5, 'label': 0.5})])\n"
     ]
    }
   ],
   "source": [
    "# edges represent hidden probabilities\n",
    "for k, v in hide_edges_wts.items():\n",
    "    tmp_origin, tmp_destination = k[0], k[1]\n",
    "    G.add_edge(tmp_origin, tmp_destination, weight=v, label=v)\n",
    "    \n",
    "# edges represent emission probabilities\n",
    "for k, v in emit_edges_wts.items():\n",
    "    tmp_origin, tmp_destination = k[0], k[1]\n",
    "    G.add_edge(tmp_origin, tmp_destination, weight=v, label=v)\n",
    "    \n",
    "print('Edges:')\n",
    "pprint(G.edges(data=True))"
   ]
  },
  {
   "cell_type": "code",
   "execution_count": 28,
   "id": "e735bc8e",
   "metadata": {},
   "outputs": [
    {
     "data": {
      "image/png": "[encoded data removed]",
      "text/plain": [
       "<Figure size 432x288 with 1 Axes>"
      ]
     },
     "metadata": {},
     "output_type": "display_data"
    }
   ],
   "source": [
    "pos = g1.graphviz_layout(G, prog='neato')\n",
    "nx.draw_networkx(G, pos)\n",
    "emit_edge_labels = { (n1,n2) :d['label'] for n1,n2,d, in G.edges(data=True)}\n",
    "nx.draw_networkx_edge_labels(G, pos, edge_labels=emit_edge_labels)\n",
    "nx.drawing.nx_pydot.write_dot(G, 'hidden_markov.dot')\n",
    "plt.show()"
   ]
  },
  {
   "cell_type": "code",
   "execution_count": 29,
   "id": "9326ed27",
   "metadata": {},
   "outputs": [
    {
     "name": "stdout",
     "output_type": "stream",
     "text": [
      "   Obs_code Obs_seq\n",
      "0         1      O2\n",
      "1         1      O2\n",
      "2         2      O3\n",
      "3         1      O2\n",
      "4         0      O1\n",
      "5         1      O2\n",
      "6         2      O3\n",
      "7         1      O2\n",
      "8         0      O1\n",
      "9         2      O3\n",
      "10        2      O3\n",
      "11        0      O1\n",
      "12        1      O2\n",
      "13        0      O1\n",
      "14        1      O2\n"
     ]
    }
   ],
   "source": [
    "obs_map = {'O1':0, 'O2':1, 'O3':2}\n",
    "obs = np.array([1,1,2,1,0,1,2,1,0,2,2,0,1,0,1])\n",
    "inv_obs_map = dict((v,k) for k, v in obs_map.items())\n",
    "obs_seq = [inv_obs_map[v] for v in list(obs)]\n",
    "\n",
    "print(pd.DataFrame(np.column_stack([obs, obs_seq]),columns=['Obs_code','Obs_seq']))"
   ]
  },
  {
   "cell_type": "code",
   "execution_count": 30,
   "id": "f4696dbe",
   "metadata": {},
   "outputs": [],
   "source": [
    "def viterbi(pi,a,b,obs):\n",
    "    nStates = np.shape(b)[0]\n",
    "    T = np.shape(obs)[0]\n",
    "    \n",
    "    path = np.zeros(T)\n",
    "    delta = np.zeros((nStates, T))\n",
    "    phi = np.zeros((nStates, T))\n",
    "    \n",
    "    delta[:,0] = pi * b[:,obs[0]]\n",
    "    phi[:,0] = 0\n",
    "    \n",
    "    for t in range(1,T):\n",
    "        for s in range(nStates):\n",
    "            delta[s,t] = np.max(delta[:,t-1]*a[:,s])*b[s,obs[t]]\n",
    "            phi[s,t] = np.argmax(delta[:,t-1]*a[:,s])\n",
    "    \n",
    "    path[T-1] = np.argmax(delta[:,T-1])\n",
    "    \n",
    "    for t in range(T-2,-1,-1):\n",
    "        path[t] = phi[int(path[t+1]), int(t+1)]\n",
    "        \n",
    "    return path,delta,phi\n",
    "\n",
    "path,delta,phi = viterbi(pi,a,b,obs)        "
   ]
  },
  {
   "cell_type": "code",
   "execution_count": 31,
   "id": "496e6634",
   "metadata": {},
   "outputs": [
    {
     "name": "stdout",
     "output_type": "stream",
     "text": [
      "single best state path: [0. 0. 0. 0. 0. 0. 0. 0. 1. 1. 1. 1. 0. 0. 0.]\n"
     ]
    }
   ],
   "source": [
    "print('single best state path:',path)"
   ]
  },
  {
   "cell_type": "code",
   "execution_count": 32,
   "id": "17bd2b87",
   "metadata": {},
   "outputs": [
    {
     "name": "stdout",
     "output_type": "stream",
     "text": [
      "delta:\n",
      " [[3.00000000e-01 1.26000000e-01 1.76400000e-02 7.40880000e-03\n",
      "  1.03723200e-03 4.35637440e-04 6.09892416e-05 2.56154815e-05\n",
      "  3.58616741e-06 5.02063437e-07 7.37725866e-08 2.21317760e-08\n",
      "  1.59348787e-08 2.23088302e-09 9.36970868e-10]\n",
      " [5.00000000e-02 9.00000000e-03 1.89000000e-02 1.13400000e-03\n",
      "  8.89056000e-04 5.33433600e-05 6.53456160e-05 3.92073696e-06\n",
      "  3.07385778e-06 9.22157333e-07 2.76647200e-07 6.63953280e-08\n",
      "  3.98371968e-09 1.91218545e-09 1.14731127e-10]]\n"
     ]
    }
   ],
   "source": [
    "print('delta:\\n',delta)"
   ]
  },
  {
   "cell_type": "code",
   "execution_count": 33,
   "id": "28b01bf8",
   "metadata": {},
   "outputs": [
    {
     "name": "stdout",
     "output_type": "stream",
     "text": [
      "phi:\n",
      " [[0. 0. 0. 0. 0. 0. 0. 0. 0. 0. 1. 1. 1. 0. 0.]\n",
      " [0. 0. 0. 1. 0. 1. 0. 1. 0. 1. 1. 1. 1. 0. 1.]]\n"
     ]
    }
   ],
   "source": [
    "print('phi:\\n',phi)"
   ]
  },
  {
   "cell_type": "code",
   "execution_count": 34,
   "id": "674d4bf7",
   "metadata": {},
   "outputs": [],
   "source": [
    "state_map = {0:'S1', 1:'S2'}\n",
    "state_path = [state_map[v] for v in path]"
   ]
  },
  {
   "cell_type": "code",
   "execution_count": 35,
   "id": "e1f2fe77",
   "metadata": {},
   "outputs": [],
   "source": [
    "result = (pd.DataFrame().assign(Observation=obs_seq).assign(Best_Patch=state_path))"
   ]
  },
  {
   "cell_type": "code",
   "execution_count": 36,
   "id": "fa25be4c",
   "metadata": {},
   "outputs": [
    {
     "name": "stdout",
     "output_type": "stream",
     "text": [
      "   Observation Best_Patch\n",
      "0           O2         S1\n",
      "1           O2         S1\n",
      "2           O3         S1\n",
      "3           O2         S1\n",
      "4           O1         S1\n",
      "5           O2         S1\n",
      "6           O3         S1\n",
      "7           O2         S1\n",
      "8           O1         S2\n",
      "9           O3         S2\n",
      "10          O3         S2\n",
      "11          O1         S2\n",
      "12          O2         S1\n",
      "13          O1         S1\n",
      "14          O2         S1\n"
     ]
    }
   ],
   "source": [
    "print(result)"
   ]
  }
 ],
 "metadata": {
  "kernelspec": {
   "display_name": "Python 3 (ipykernel)",
   "language": "python",
   "name": "python3"
  },
  "language_info": {
   "codemirror_mode": {
    "name": "ipython",
    "version": 3
   },
   "file_extension": ".py",
   "mimetype": "text/x-python",
   "name": "python",
   "nbconvert_exporter": "python",
   "pygments_lexer": "ipython3",
   "version": "3.9.12"
  }
 },
 "nbformat": 4,
 "nbformat_minor": 5
}
