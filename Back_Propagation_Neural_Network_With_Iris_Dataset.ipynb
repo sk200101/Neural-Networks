{
 "cells": [
  {
   "cell_type": "code",
   "execution_count": 59,
   "id": "60f4f888",
   "metadata": {},
   "outputs": [],
   "source": [
    "#Importing the required Libraries\n",
    "import numpy as np\n",
    "import matplotlib.pyplot as plt\n",
    "from sklearn.datasets import load_iris\n",
    "from scipy.sparse import coo_matrix\n",
    "from sklearn.utils import shuffle\n",
    "from sklearn.metrics import mean_squared_error"
   ]
  },
  {
   "cell_type": "code",
   "execution_count": 60,
   "id": "a6674cdb",
   "metadata": {},
   "outputs": [],
   "source": [
    "data = load_iris()"
   ]
  },
  {
   "cell_type": "code",
   "execution_count": 61,
   "id": "7d7acc13",
   "metadata": {},
   "outputs": [
    {
     "name": "stdout",
     "output_type": "stream",
     "text": [
      "(150,)\n"
     ]
    }
   ],
   "source": [
    "print(data.target.shape)"
   ]
  },
  {
   "cell_type": "code",
   "execution_count": 62,
   "id": "ae38d78b",
   "metadata": {},
   "outputs": [
    {
     "data": {
      "text/plain": [
       "array([[5.1, 3.5, 1.4, 0.2],\n",
       "       [4.9, 3. , 1.4, 0.2],\n",
       "       [4.7, 3.2, 1.3, 0.2],\n",
       "       [4.6, 3.1, 1.5, 0.2],\n",
       "       [5. , 3.6, 1.4, 0.2],\n",
       "       [5.4, 3.9, 1.7, 0.4],\n",
       "       [4.6, 3.4, 1.4, 0.3],\n",
       "       [5. , 3.4, 1.5, 0.2],\n",
       "       [4.4, 2.9, 1.4, 0.2],\n",
       "       [4.9, 3.1, 1.5, 0.1],\n",
       "       [5.4, 3.7, 1.5, 0.2],\n",
       "       [4.8, 3.4, 1.6, 0.2],\n",
       "       [4.8, 3. , 1.4, 0.1],\n",
       "       [4.3, 3. , 1.1, 0.1],\n",
       "       [5.8, 4. , 1.2, 0.2],\n",
       "       [5.7, 4.4, 1.5, 0.4],\n",
       "       [5.4, 3.9, 1.3, 0.4],\n",
       "       [5.1, 3.5, 1.4, 0.3],\n",
       "       [5.7, 3.8, 1.7, 0.3],\n",
       "       [5.1, 3.8, 1.5, 0.3],\n",
       "       [5.4, 3.4, 1.7, 0.2],\n",
       "       [5.1, 3.7, 1.5, 0.4],\n",
       "       [4.6, 3.6, 1. , 0.2],\n",
       "       [5.1, 3.3, 1.7, 0.5],\n",
       "       [4.8, 3.4, 1.9, 0.2],\n",
       "       [5. , 3. , 1.6, 0.2],\n",
       "       [5. , 3.4, 1.6, 0.4],\n",
       "       [5.2, 3.5, 1.5, 0.2],\n",
       "       [5.2, 3.4, 1.4, 0.2],\n",
       "       [4.7, 3.2, 1.6, 0.2],\n",
       "       [4.8, 3.1, 1.6, 0.2],\n",
       "       [5.4, 3.4, 1.5, 0.4],\n",
       "       [5.2, 4.1, 1.5, 0.1],\n",
       "       [5.5, 4.2, 1.4, 0.2],\n",
       "       [4.9, 3.1, 1.5, 0.2],\n",
       "       [5. , 3.2, 1.2, 0.2],\n",
       "       [5.5, 3.5, 1.3, 0.2],\n",
       "       [4.9, 3.6, 1.4, 0.1],\n",
       "       [4.4, 3. , 1.3, 0.2],\n",
       "       [5.1, 3.4, 1.5, 0.2],\n",
       "       [5. , 3.5, 1.3, 0.3],\n",
       "       [4.5, 2.3, 1.3, 0.3],\n",
       "       [4.4, 3.2, 1.3, 0.2],\n",
       "       [5. , 3.5, 1.6, 0.6],\n",
       "       [5.1, 3.8, 1.9, 0.4],\n",
       "       [4.8, 3. , 1.4, 0.3],\n",
       "       [5.1, 3.8, 1.6, 0.2],\n",
       "       [4.6, 3.2, 1.4, 0.2],\n",
       "       [5.3, 3.7, 1.5, 0.2],\n",
       "       [5. , 3.3, 1.4, 0.2],\n",
       "       [7. , 3.2, 4.7, 1.4],\n",
       "       [6.4, 3.2, 4.5, 1.5],\n",
       "       [6.9, 3.1, 4.9, 1.5],\n",
       "       [5.5, 2.3, 4. , 1.3],\n",
       "       [6.5, 2.8, 4.6, 1.5],\n",
       "       [5.7, 2.8, 4.5, 1.3],\n",
       "       [6.3, 3.3, 4.7, 1.6],\n",
       "       [4.9, 2.4, 3.3, 1. ],\n",
       "       [6.6, 2.9, 4.6, 1.3],\n",
       "       [5.2, 2.7, 3.9, 1.4],\n",
       "       [5. , 2. , 3.5, 1. ],\n",
       "       [5.9, 3. , 4.2, 1.5],\n",
       "       [6. , 2.2, 4. , 1. ],\n",
       "       [6.1, 2.9, 4.7, 1.4],\n",
       "       [5.6, 2.9, 3.6, 1.3],\n",
       "       [6.7, 3.1, 4.4, 1.4],\n",
       "       [5.6, 3. , 4.5, 1.5],\n",
       "       [5.8, 2.7, 4.1, 1. ],\n",
       "       [6.2, 2.2, 4.5, 1.5],\n",
       "       [5.6, 2.5, 3.9, 1.1],\n",
       "       [5.9, 3.2, 4.8, 1.8],\n",
       "       [6.1, 2.8, 4. , 1.3],\n",
       "       [6.3, 2.5, 4.9, 1.5],\n",
       "       [6.1, 2.8, 4.7, 1.2],\n",
       "       [6.4, 2.9, 4.3, 1.3],\n",
       "       [6.6, 3. , 4.4, 1.4],\n",
       "       [6.8, 2.8, 4.8, 1.4],\n",
       "       [6.7, 3. , 5. , 1.7],\n",
       "       [6. , 2.9, 4.5, 1.5],\n",
       "       [5.7, 2.6, 3.5, 1. ],\n",
       "       [5.5, 2.4, 3.8, 1.1],\n",
       "       [5.5, 2.4, 3.7, 1. ],\n",
       "       [5.8, 2.7, 3.9, 1.2],\n",
       "       [6. , 2.7, 5.1, 1.6],\n",
       "       [5.4, 3. , 4.5, 1.5],\n",
       "       [6. , 3.4, 4.5, 1.6],\n",
       "       [6.7, 3.1, 4.7, 1.5],\n",
       "       [6.3, 2.3, 4.4, 1.3],\n",
       "       [5.6, 3. , 4.1, 1.3],\n",
       "       [5.5, 2.5, 4. , 1.3],\n",
       "       [5.5, 2.6, 4.4, 1.2],\n",
       "       [6.1, 3. , 4.6, 1.4],\n",
       "       [5.8, 2.6, 4. , 1.2],\n",
       "       [5. , 2.3, 3.3, 1. ],\n",
       "       [5.6, 2.7, 4.2, 1.3],\n",
       "       [5.7, 3. , 4.2, 1.2],\n",
       "       [5.7, 2.9, 4.2, 1.3],\n",
       "       [6.2, 2.9, 4.3, 1.3],\n",
       "       [5.1, 2.5, 3. , 1.1],\n",
       "       [5.7, 2.8, 4.1, 1.3],\n",
       "       [6.3, 3.3, 6. , 2.5],\n",
       "       [5.8, 2.7, 5.1, 1.9],\n",
       "       [7.1, 3. , 5.9, 2.1],\n",
       "       [6.3, 2.9, 5.6, 1.8],\n",
       "       [6.5, 3. , 5.8, 2.2],\n",
       "       [7.6, 3. , 6.6, 2.1],\n",
       "       [4.9, 2.5, 4.5, 1.7],\n",
       "       [7.3, 2.9, 6.3, 1.8],\n",
       "       [6.7, 2.5, 5.8, 1.8],\n",
       "       [7.2, 3.6, 6.1, 2.5],\n",
       "       [6.5, 3.2, 5.1, 2. ],\n",
       "       [6.4, 2.7, 5.3, 1.9],\n",
       "       [6.8, 3. , 5.5, 2.1],\n",
       "       [5.7, 2.5, 5. , 2. ],\n",
       "       [5.8, 2.8, 5.1, 2.4],\n",
       "       [6.4, 3.2, 5.3, 2.3],\n",
       "       [6.5, 3. , 5.5, 1.8],\n",
       "       [7.7, 3.8, 6.7, 2.2],\n",
       "       [7.7, 2.6, 6.9, 2.3],\n",
       "       [6. , 2.2, 5. , 1.5],\n",
       "       [6.9, 3.2, 5.7, 2.3],\n",
       "       [5.6, 2.8, 4.9, 2. ],\n",
       "       [7.7, 2.8, 6.7, 2. ],\n",
       "       [6.3, 2.7, 4.9, 1.8],\n",
       "       [6.7, 3.3, 5.7, 2.1],\n",
       "       [7.2, 3.2, 6. , 1.8],\n",
       "       [6.2, 2.8, 4.8, 1.8],\n",
       "       [6.1, 3. , 4.9, 1.8],\n",
       "       [6.4, 2.8, 5.6, 2.1],\n",
       "       [7.2, 3. , 5.8, 1.6],\n",
       "       [7.4, 2.8, 6.1, 1.9],\n",
       "       [7.9, 3.8, 6.4, 2. ],\n",
       "       [6.4, 2.8, 5.6, 2.2],\n",
       "       [6.3, 2.8, 5.1, 1.5],\n",
       "       [6.1, 2.6, 5.6, 1.4],\n",
       "       [7.7, 3. , 6.1, 2.3],\n",
       "       [6.3, 3.4, 5.6, 2.4],\n",
       "       [6.4, 3.1, 5.5, 1.8],\n",
       "       [6. , 3. , 4.8, 1.8],\n",
       "       [6.9, 3.1, 5.4, 2.1],\n",
       "       [6.7, 3.1, 5.6, 2.4],\n",
       "       [6.9, 3.1, 5.1, 2.3],\n",
       "       [5.8, 2.7, 5.1, 1.9],\n",
       "       [6.8, 3.2, 5.9, 2.3],\n",
       "       [6.7, 3.3, 5.7, 2.5],\n",
       "       [6.7, 3. , 5.2, 2.3],\n",
       "       [6.3, 2.5, 5. , 1.9],\n",
       "       [6.5, 3. , 5.2, 2. ],\n",
       "       [6.2, 3.4, 5.4, 2.3],\n",
       "       [5.9, 3. , 5.1, 1.8]])"
      ]
     },
     "execution_count": 62,
     "metadata": {},
     "output_type": "execute_result"
    }
   ],
   "source": [
    "X = data.data\n",
    "X"
   ]
  },
  {
   "cell_type": "code",
   "execution_count": 63,
   "id": "8ee338a2",
   "metadata": {},
   "outputs": [
    {
     "data": {
      "text/plain": [
       "array([0, 0, 0, 0, 0, 0, 0, 0, 0, 0, 0, 0, 0, 0, 0, 0, 0, 0, 0, 0, 0, 0,\n",
       "       0, 0, 0, 0, 0, 0, 0, 0, 0, 0, 0, 0, 0, 0, 0, 0, 0, 0, 0, 0, 0, 0,\n",
       "       0, 0, 0, 0, 0, 0, 1, 1, 1, 1, 1, 1, 1, 1, 1, 1, 1, 1, 1, 1, 1, 1,\n",
       "       1, 1, 1, 1, 1, 1, 1, 1, 1, 1, 1, 1, 1, 1, 1, 1, 1, 1, 1, 1, 1, 1,\n",
       "       1, 1, 1, 1, 1, 1, 1, 1, 1, 1, 1, 1, 2, 2, 2, 2, 2, 2, 2, 2, 2, 2,\n",
       "       2, 2, 2, 2, 2, 2, 2, 2, 2, 2, 2, 2, 2, 2, 2, 2, 2, 2, 2, 2, 2, 2,\n",
       "       2, 2, 2, 2, 2, 2, 2, 2, 2, 2, 2, 2, 2, 2, 2, 2, 2, 2])"
      ]
     },
     "execution_count": 63,
     "metadata": {},
     "output_type": "execute_result"
    }
   ],
   "source": [
    "Y = data.target\n",
    "Y"
   ]
  },
  {
   "cell_type": "code",
   "execution_count": 64,
   "id": "bcfece27",
   "metadata": {},
   "outputs": [],
   "source": [
    "# Code for randomly shuffling the dataset\n",
    "X_sparse = coo_matrix(X)\n",
    "X,X_sparse, y = shuffle(X,X_sparse, Y, random_state=0)\n",
    "X = X_sparse.toarray()\n",
    "Y = y"
   ]
  },
  {
   "cell_type": "code",
   "execution_count": 65,
   "id": "0cb5f9c5",
   "metadata": {},
   "outputs": [
    {
     "name": "stdout",
     "output_type": "stream",
     "text": [
      "(150, 4)\n"
     ]
    }
   ],
   "source": [
    "print(X.shape)"
   ]
  },
  {
   "cell_type": "code",
   "execution_count": 66,
   "id": "c0eada8f",
   "metadata": {},
   "outputs": [
    {
     "data": {
      "text/plain": [
       "array([[2],\n",
       "       [1],\n",
       "       [0],\n",
       "       [2],\n",
       "       [0],\n",
       "       [2],\n",
       "       [0],\n",
       "       [1],\n",
       "       [1],\n",
       "       [1],\n",
       "       [2],\n",
       "       [1],\n",
       "       [1],\n",
       "       [1],\n",
       "       [1],\n",
       "       [0],\n",
       "       [1],\n",
       "       [1],\n",
       "       [0],\n",
       "       [0],\n",
       "       [2],\n",
       "       [1],\n",
       "       [0],\n",
       "       [0],\n",
       "       [2],\n",
       "       [0],\n",
       "       [0],\n",
       "       [1],\n",
       "       [1],\n",
       "       [0],\n",
       "       [2],\n",
       "       [1],\n",
       "       [0],\n",
       "       [2],\n",
       "       [2],\n",
       "       [1],\n",
       "       [0],\n",
       "       [1],\n",
       "       [1],\n",
       "       [1],\n",
       "       [2],\n",
       "       [0],\n",
       "       [2],\n",
       "       [0],\n",
       "       [0],\n",
       "       [1],\n",
       "       [2],\n",
       "       [2],\n",
       "       [2],\n",
       "       [2],\n",
       "       [1],\n",
       "       [2],\n",
       "       [1],\n",
       "       [1],\n",
       "       [2],\n",
       "       [2],\n",
       "       [2],\n",
       "       [2],\n",
       "       [1],\n",
       "       [2],\n",
       "       [1],\n",
       "       [0],\n",
       "       [2],\n",
       "       [1],\n",
       "       [1],\n",
       "       [1],\n",
       "       [1],\n",
       "       [2],\n",
       "       [0],\n",
       "       [0],\n",
       "       [2],\n",
       "       [1],\n",
       "       [0],\n",
       "       [0],\n",
       "       [1],\n",
       "       [0],\n",
       "       [2],\n",
       "       [1],\n",
       "       [0],\n",
       "       [1],\n",
       "       [2],\n",
       "       [1],\n",
       "       [0],\n",
       "       [2],\n",
       "       [2],\n",
       "       [2],\n",
       "       [2],\n",
       "       [0],\n",
       "       [0],\n",
       "       [2],\n",
       "       [2],\n",
       "       [0],\n",
       "       [2],\n",
       "       [0],\n",
       "       [2],\n",
       "       [2],\n",
       "       [0],\n",
       "       [0],\n",
       "       [2],\n",
       "       [0],\n",
       "       [0],\n",
       "       [0],\n",
       "       [1],\n",
       "       [2],\n",
       "       [2],\n",
       "       [0],\n",
       "       [0],\n",
       "       [0],\n",
       "       [1],\n",
       "       [1],\n",
       "       [0],\n",
       "       [0],\n",
       "       [1],\n",
       "       [0],\n",
       "       [2],\n",
       "       [1],\n",
       "       [2],\n",
       "       [1],\n",
       "       [0],\n",
       "       [2],\n",
       "       [0],\n",
       "       [2],\n",
       "       [0],\n",
       "       [0],\n",
       "       [2],\n",
       "       [0],\n",
       "       [2],\n",
       "       [1],\n",
       "       [1],\n",
       "       [1],\n",
       "       [2],\n",
       "       [2],\n",
       "       [1],\n",
       "       [1],\n",
       "       [0],\n",
       "       [1],\n",
       "       [2],\n",
       "       [2],\n",
       "       [0],\n",
       "       [1],\n",
       "       [1],\n",
       "       [1],\n",
       "       [1],\n",
       "       [0],\n",
       "       [0],\n",
       "       [0],\n",
       "       [2],\n",
       "       [1],\n",
       "       [2],\n",
       "       [0]])"
      ]
     },
     "execution_count": 66,
     "metadata": {},
     "output_type": "execute_result"
    }
   ],
   "source": [
    "Y = Y.reshape(150,1)\n",
    "Y"
   ]
  },
  {
   "cell_type": "code",
   "execution_count": 67,
   "id": "0d75ddf8",
   "metadata": {},
   "outputs": [],
   "source": [
    "# Dividing the dataset into training and testing\n",
    "train_X = X[0:125,:]\n",
    "train_Y = Y[0:125,:]\n",
    "test_X = X[125:,:]\n",
    "test_Y = Y[125:,:]"
   ]
  },
  {
   "cell_type": "code",
   "execution_count": 68,
   "id": "5e681818",
   "metadata": {},
   "outputs": [],
   "source": [
    "def sigmoid(X):\n",
    "    for i in range(0,X.shape[0]):\n",
    "        X[i] = 1/(1+np.exp(-1*X[i]))\n",
    "    return X"
   ]
  },
  {
   "cell_type": "code",
   "execution_count": 69,
   "id": "b93bb8f1",
   "metadata": {},
   "outputs": [],
   "source": [
    "def diffSigmoid(X):\n",
    "    for i in range(0,len(X)):\n",
    "        y = 1/(1+np.exp(-1*X[i]))\n",
    "        X[i] = y*(1-y)\n",
    "    return X"
   ]
  },
  {
   "cell_type": "code",
   "execution_count": 70,
   "id": "2e8ece63",
   "metadata": {},
   "outputs": [
    {
     "name": "stdout",
     "output_type": "stream",
     "text": [
      "(150, 1)\n"
     ]
    }
   ],
   "source": [
    "print(Y.shape)"
   ]
  },
  {
   "cell_type": "code",
   "execution_count": 71,
   "id": "5e169ce3",
   "metadata": {},
   "outputs": [],
   "source": [
    "# Random initializtion of Weights Matrices\n",
    "# Model contains 4 layers having 4->8->8->3 neurons respectively\n",
    "\n",
    "w12 = np.random.rand(8,4)\n",
    "b1 = np.random.rand(8,1)\n",
    "w23 = np.random.rand(8,8)\n",
    "b2 = np.random.rand(8,1)\n",
    "w34 = np.random.rand(3,8)\n",
    "b3 = np.random.rand(3,1)"
   ]
  },
  {
   "cell_type": "code",
   "execution_count": 72,
   "id": "f29b65b8",
   "metadata": {},
   "outputs": [
    {
     "name": "stdout",
     "output_type": "stream",
     "text": [
      "[[5.68587251e-02 4.06003002e-01 9.24134130e-01 8.15537983e-01\n",
      "  5.01637909e-02 6.75797403e-01 6.25894544e-01 6.62967432e-01]\n",
      " [4.87540447e-04 6.07935578e-01 1.49974538e-02 2.28230753e-01\n",
      "  8.79731961e-01 7.32467602e-01 4.53794240e-01 6.29593097e-02]\n",
      " [9.85999946e-01 7.16804741e-01 1.08894933e-01 3.09874756e-01\n",
      "  5.31626198e-01 5.58860854e-01 7.09455153e-01 6.07671311e-01]\n",
      " [5.34012518e-01 1.46694218e-01 8.77551715e-01 5.60874549e-01\n",
      "  8.02842518e-01 6.70544993e-01 6.97442148e-01 4.68546771e-01]\n",
      " [1.99726448e-02 5.47888106e-01 7.05933189e-01 8.93413394e-01\n",
      "  1.56607732e-01 3.71356698e-01 9.62788943e-01 6.89099595e-01]\n",
      " [2.37631126e-01 1.24654329e-01 9.22894656e-01 3.88767448e-01\n",
      "  2.71763649e-01 5.30363448e-01 5.01396105e-01 3.93290842e-01]\n",
      " [6.80452350e-01 1.44087646e-01 9.90551048e-01 9.92362645e-01\n",
      "  8.30620134e-01 1.00604624e-02 6.98011388e-01 8.56279459e-01]\n",
      " [7.43292039e-01 1.17376792e-01 1.34988044e-01 6.86589348e-01\n",
      "  3.59191193e-01 7.01727568e-01 1.81926845e-01 6.47748520e-01]]\n"
     ]
    }
   ],
   "source": [
    "print(w23)"
   ]
  },
  {
   "cell_type": "code",
   "execution_count": 73,
   "id": "6645e10f",
   "metadata": {},
   "outputs": [],
   "source": [
    "def forwardPropagation(X,Y,dict2):\n",
    "    dict = {}\n",
    "    w12 = dict2[\"w12\"]\n",
    "    w23 = dict2[\"w23\"]\n",
    "    w34 = dict2[\"w34\"]\n",
    "    b1 = dict2[\"b1\"]\n",
    "    b2 = dict2[\"b2\"]\n",
    "    b3 = dict2[\"b3\"]\n",
    "    \n",
    "    X = np.asarray(X)\n",
    "    X = X.reshape((4,1))\n",
    "    \n",
    "    net1 = np.dot(w12,X) + b1\n",
    "    a1 = sigmoid(net1)\n",
    "    net2 = np.dot(w23,a1) + b2\n",
    "    a2 = sigmoid(net2)\n",
    "    net3 = np.dot(w34,a2) + b3\n",
    "    a3 = sigmoid(net3)\n",
    "    \n",
    "    error = 1/2*np.sum(pow((Y-a3),2))\n",
    "    \n",
    "    dict[\"a1\"] = a1\n",
    "    dict[\"a2\"] = a2\n",
    "    dict[\"a3\"] = a3\n",
    "    dict[\"net1\"] = net1\n",
    "    dict[\"net2\"] = net2\n",
    "    dict[\"net3\"] = net3\n",
    "    dict[\"err\"] = error\n",
    "    \n",
    "    return dict"
   ]
  },
  {
   "cell_type": "code",
   "execution_count": 74,
   "id": "2a6e7810",
   "metadata": {},
   "outputs": [],
   "source": [
    "def BackPropagation(X,y,alpha,dict,dict2):\n",
    "    a1 = dict[\"a1\"]\n",
    "    a2 = dict[\"a2\"]\n",
    "    a3 = dict[\"a3\"]\n",
    "    net1 = dict[\"net1\"]\n",
    "    net2 = dict[\"net2\"]\n",
    "    net3 = dict[\"net3\"]\n",
    "    error = dict[\"err\"]\n",
    "    w12 = dict2[\"w12\"]\n",
    "    w23 = dict2[\"w23\"]\n",
    "    w34 = dict2[\"w34\"]\n",
    "    b1 = dict2[\"b1\"]\n",
    "    b2 = dict2[\"b2\"]\n",
    "    b3 = dict2[\"b3\"]\n",
    "    \n",
    "    y1 = np.zeros((3,1))\n",
    "    y1[y] = 1\n",
    "    \n",
    "    a3 = a3.reshape((3,1))\n",
    "    a2 = a2.reshape((8,1))\n",
    "    a1 = a1.reshape((8,1))\n",
    "    \n",
    "    X = np.asarray(X)\n",
    "    X = X.reshape((4,1))\n",
    "    \n",
    "    temp = np.multiply(a3-y1,np.multiply(a3,np.ones(a3.shape)-a3))\n",
    "    temp2 = np.multiply(np.dot(temp.transpose(),w34).T,np.multiply(a2,np.ones(a2.shape)-a2))\n",
    "    temp3 = np.multiply(np.dot(temp2.transpose(),w23).T,np.multiply(a1,np.ones(a1.shape)-a1))\n",
    "    \n",
    "    w34 = w34 - (alpha)*(np.dot(temp,a2.T))\n",
    "    b3 = b3 - (alpha)*temp\n",
    "    w23 = w23 - (alpha)*(np.dot(temp2,a1.T))\n",
    "    b2 = b2 - (alpha)*temp2\n",
    "    w12 = w12- (alpha)*(np.dot(temp3,X.T))\n",
    "    b1 = b1 - (alpha)*temp3\n",
    "    \n",
    "    dict2[\"w12\"] = w12\n",
    "    dict2[\"w23\"] = w23\n",
    "    dict2[\"w34\"] = w34\n",
    "    dict2[\"b1\"] = b1\n",
    "    dict2[\"b2\"] = b2\n",
    "    dict2[\"b3\"] = b3\n",
    "    \n",
    "    return dict2"
   ]
  },
  {
   "cell_type": "code",
   "execution_count": 75,
   "id": "b97a101c",
   "metadata": {},
   "outputs": [
    {
     "name": "stdout",
     "output_type": "stream",
     "text": [
      "[[ 0.05756269  0.40670738  0.92484298  0.8162435   0.05086736  0.67650106\n",
      "   0.62660079  0.66367101]\n",
      " [-0.00533995  0.6021079   0.00916542  0.22240258  0.87390489  0.72664148\n",
      "   0.44796439  0.05713228]\n",
      " [ 0.98409465  0.7148995   0.10698947  0.30796969  0.52972094  0.55695597\n",
      "   0.70754969  0.60576607]\n",
      " [ 0.53215152  0.14483335  0.87569133  0.55901402  0.8009815   0.66868435\n",
      "   0.69558135  0.46668577]\n",
      " [ 0.01803846  0.54595431  0.70400257  0.89148069  0.15467329  0.36942277\n",
      "   0.96085632  0.68716518]\n",
      " [ 0.23633182  0.12335626  0.92160875  0.38747281  0.27046332  0.52906388\n",
      "   0.50010293  0.39199055]\n",
      " [ 0.67948593  0.14312121  0.98958407  0.99139618  0.82965377  0.00909426\n",
      "   0.69704467  0.8553131 ]\n",
      " [ 0.74300898  0.11709453  0.13471377  0.68630931  0.35890746  0.70144426\n",
      "   0.18164782  0.64746481]]\n"
     ]
    }
   ],
   "source": [
    "def main(X,y):\n",
    "    max_iter = 10\n",
    "    alpha = 0.01\n",
    "    weights = {}\n",
    "    cost_list = []\n",
    "    weights[\"w12\"] = w12\n",
    "    weights[\"w23\"] = w23\n",
    "    weights[\"w34\"] = w34\n",
    "    weights[\"b1\"] = b1\n",
    "    weights[\"b2\"] = b2\n",
    "    weights[\"b3\"] = b3\n",
    "    weights[\"No_of_Iter\"] = max_iter\n",
    "    \n",
    "    while(True):\n",
    "        for i in range(1,X.shape[0]):\n",
    "            d1 = forwardPropagation(X[i],y[i],weights)\n",
    "            weights = BackPropagation(X[i],y[i],alpha,d1,weights)\n",
    "            curr_error = d1[\"err\"]\n",
    "            \n",
    "        max_iter = max_iter - 1\n",
    "        if(max_iter < 0):\n",
    "            break\n",
    "        final = d1[\"err\"]\n",
    "        cost_list.append(final)\n",
    "    weights['cost'] = cost_list\n",
    "    return weights\n",
    "\n",
    "ans = main(train_X,train_Y)\n",
    "u = ans[\"w23\"]\n",
    "print(u)"
   ]
  },
  {
   "cell_type": "code",
   "execution_count": 76,
   "id": "6e3bdb95",
   "metadata": {},
   "outputs": [
    {
     "name": "stdout",
     "output_type": "stream",
     "text": [
      "[[0.39405663]\n",
      " [0.93589443]\n",
      " [0.99466295]]\n",
      "[0]\n"
     ]
    }
   ],
   "source": [
    "pred = forwardPropagation(test_X[19],test_Y[19],ans)\n",
    "print(pred[\"a3\"])\n",
    "print(test_Y[19])"
   ]
  },
  {
   "cell_type": "code",
   "execution_count": 77,
   "id": "a255b815",
   "metadata": {},
   "outputs": [
    {
     "data": {
      "text/plain": [
       "(25, 4)"
      ]
     },
     "execution_count": 77,
     "metadata": {},
     "output_type": "execute_result"
    }
   ],
   "source": [
    "test_X.shape"
   ]
  },
  {
   "cell_type": "code",
   "execution_count": 78,
   "id": "fbf85939",
   "metadata": {},
   "outputs": [
    {
     "data": {
      "text/plain": [
       "<function matplotlib.pyplot.show(close=None, block=None)>"
      ]
     },
     "execution_count": 78,
     "metadata": {},
     "output_type": "execute_result"
    },
    {
     "data": {
      "image/png": "[encoded data removed]",
      "text/plain": [
       "<Figure size 432x288 with 1 Axes>"
      ]
     },
     "metadata": {
      "needs_background": "light"
     },
     "output_type": "display_data"
    }
   ],
   "source": [
    "i = ans['No_of_Iter']\n",
    "iter = np.arange(0,i)\n",
    "error = ans['cost']\n",
    "plt.plot(iter,error)\n",
    "plt.xlabel('No_of_iterations')\n",
    "plt.ylabel('Error')\n",
    "plt.show"
   ]
  }
 ],
 "metadata": {
  "kernelspec": {
   "display_name": "Python 3 (ipykernel)",
   "language": "python",
   "name": "python3"
  },
  "language_info": {
   "codemirror_mode": {
    "name": "ipython",
    "version": 3
   },
   "file_extension": ".py",
   "mimetype": "text/x-python",
   "name": "python",
   "nbconvert_exporter": "python",
   "pygments_lexer": "ipython3",
   "version": "3.9.7"
  }
 },
 "nbformat": 4,
 "nbformat_minor": 5
}
