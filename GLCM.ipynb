{
 "cells": [
  {
   "cell_type": "markdown",
   "id": "0d320471",
   "metadata": {},
   "source": [
    "# Aim\n",
    "\n",
    "To implement Gray-Level Co-Occurrence Matrix"
   ]
  },
  {
   "cell_type": "markdown",
   "id": "fd9cd251",
   "metadata": {},
   "source": [
    "# Algorithm\n",
    "\n",
    "    Import greycomatrix from the skimage feature module in Python\n",
    "    Import numpy library as np\n",
    "    To create a numerical multi-dimensional array called as image\n",
    "    Call a function called result with the help of greycomatrix\n",
    "    Print the result"
   ]
  },
  {
   "cell_type": "markdown",
   "id": "8da3883c",
   "metadata": {},
   "source": [
    "# Code"
   ]
  },
  {
   "cell_type": "markdown",
   "id": "f629c254",
   "metadata": {},
   "source": [
    "Import libraries"
   ]
  },
  {
   "cell_type": "code",
   "execution_count": 1,
   "id": "6b0ded8a",
   "metadata": {},
   "outputs": [],
   "source": [
    "from skimage.feature import greycomatrix\n",
    "import numpy as np"
   ]
  },
  {
   "cell_type": "code",
   "execution_count": 8,
   "id": "20ea2fb4",
   "metadata": {},
   "outputs": [
    {
     "data": {
      "text/plain": [
       "array([[0, 0, 1, 1],\n",
       "       [0, 0, 1, 1],\n",
       "       [0, 2, 2, 2],\n",
       "       [2, 2, 3, 3]], dtype=uint8)"
      ]
     },
     "execution_count": 8,
     "metadata": {},
     "output_type": "execute_result"
    }
   ],
   "source": [
    "image = np.array([[0,0,1,1],[0,0,1,1],[0,2,2,2,],[2,2,3,3]],dtype = np.uint8)\n",
    "image"
   ]
  },
  {
   "cell_type": "code",
   "execution_count": 9,
   "id": "b10a8f7a",
   "metadata": {},
   "outputs": [
    {
     "name": "stderr",
     "output_type": "stream",
     "text": [
      "C:\\Users\\rosha\\anaconda3\\lib\\site-packages\\skimage\\feature\\__init__.py:35: skimage_deprecation: Function ``greycomatrix`` is deprecated and will be removed in version 1.0. Use ``skimage.feature.graycomatrix`` instead.\n",
      "  removed_version='1.0')\n"
     ]
    }
   ],
   "source": [
    "result = greycomatrix(image,[1],[0,np.pi/4,np.pi/2,3*np.pi/4], levels=4,symmetric=True,normed=True)"
   ]
  },
  {
   "cell_type": "code",
   "execution_count": 10,
   "id": "00148c01",
   "metadata": {},
   "outputs": [
    {
     "name": "stdout",
     "output_type": "stream",
     "text": [
      "[[[[0.16666667 0.11111111 0.25       0.22222222]]\n",
      "\n",
      "  [[0.08333333 0.05555556 0.         0.05555556]]\n",
      "\n",
      "  [[0.04166667 0.16666667 0.08333333 0.        ]]\n",
      "\n",
      "  [[0.         0.         0.         0.        ]]]\n",
      "\n",
      "\n",
      " [[[0.08333333 0.05555556 0.         0.05555556]]\n",
      "\n",
      "  [[0.16666667 0.11111111 0.16666667 0.11111111]]\n",
      "\n",
      "  [[0.         0.05555556 0.08333333 0.11111111]]\n",
      "\n",
      "  [[0.         0.         0.         0.        ]]]\n",
      "\n",
      "\n",
      " [[[0.04166667 0.16666667 0.08333333 0.        ]]\n",
      "\n",
      "  [[0.         0.05555556 0.08333333 0.11111111]]\n",
      "\n",
      "  [[0.25       0.         0.08333333 0.22222222]]\n",
      "\n",
      "  [[0.04166667 0.11111111 0.08333333 0.05555556]]]\n",
      "\n",
      "\n",
      " [[[0.         0.         0.         0.        ]]\n",
      "\n",
      "  [[0.         0.         0.         0.        ]]\n",
      "\n",
      "  [[0.04166667 0.11111111 0.08333333 0.05555556]]\n",
      "\n",
      "  [[0.08333333 0.         0.         0.        ]]]]\n"
     ]
    }
   ],
   "source": [
    "print(result)"
   ]
  }
 ],
 "metadata": {
  "kernelspec": {
   "display_name": "Python 3 (ipykernel)",
   "language": "python",
   "name": "python3"
  },
  "language_info": {
   "codemirror_mode": {
    "name": "ipython",
    "version": 3
   },
   "file_extension": ".py",
   "mimetype": "text/x-python",
   "name": "python",
   "nbconvert_exporter": "python",
   "pygments_lexer": "ipython3",
   "version": "3.9.12"
  }
 },
 "nbformat": 4,
 "nbformat_minor": 5
}
