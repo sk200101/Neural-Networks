{
 "cells": [
  {
   "cell_type": "code",
   "execution_count": 1,
   "id": "26ba6389",
   "metadata": {},
   "outputs": [],
   "source": [
    "from numpy import array\n",
    "from numpy import mean\n",
    "from numpy import cov\n",
    "from numpy.linalg import eig"
   ]
  },
  {
   "cell_type": "code",
   "execution_count": 2,
   "id": "513f2f73",
   "metadata": {},
   "outputs": [
    {
     "name": "stdout",
     "output_type": "stream",
     "text": [
      "[[1 2]\n",
      " [3 4]\n",
      " [5 6]]\n"
     ]
    }
   ],
   "source": [
    "# define matrix\n",
    "A = array([[1,2],[3,4],[5,6]])\n",
    "print(A)"
   ]
  },
  {
   "cell_type": "code",
   "execution_count": 3,
   "id": "20378b1d",
   "metadata": {},
   "outputs": [
    {
     "name": "stdout",
     "output_type": "stream",
     "text": [
      "[3. 4.]\n"
     ]
    }
   ],
   "source": [
    "# calculate the mean of each column\n",
    "M = mean(A.T,axis=1)\n",
    "print(M)"
   ]
  },
  {
   "cell_type": "code",
   "execution_count": 4,
   "id": "717e8882",
   "metadata": {},
   "outputs": [
    {
     "name": "stdout",
     "output_type": "stream",
     "text": [
      "[[-2. -2.]\n",
      " [ 0.  0.]\n",
      " [ 2.  2.]]\n"
     ]
    }
   ],
   "source": [
    "# center columns by subtracting column means\n",
    "C = A - M\n",
    "print(C)"
   ]
  },
  {
   "cell_type": "code",
   "execution_count": 5,
   "id": "019cecb8",
   "metadata": {},
   "outputs": [
    {
     "name": "stdout",
     "output_type": "stream",
     "text": [
      "[[4. 4.]\n",
      " [4. 4.]]\n"
     ]
    }
   ],
   "source": [
    "# calculate covariance matrix of centered matrix\n",
    "V = cov(C.T)\n",
    "print(V)"
   ]
  },
  {
   "cell_type": "code",
   "execution_count": 6,
   "id": "aaefdbf8",
   "metadata": {},
   "outputs": [
    {
     "name": "stdout",
     "output_type": "stream",
     "text": [
      "[[ 0.70710678 -0.70710678]\n",
      " [ 0.70710678  0.70710678]]\n",
      "[8. 0.]\n"
     ]
    }
   ],
   "source": [
    "# eigendecomposition of covariance matrix\n",
    "values, vectors = eig(V)\n",
    "print(vectors)\n",
    "print(values)"
   ]
  },
  {
   "cell_type": "code",
   "execution_count": 7,
   "id": "12598f75",
   "metadata": {},
   "outputs": [
    {
     "name": "stdout",
     "output_type": "stream",
     "text": [
      "[[-2.82842712  0.        ]\n",
      " [ 0.          0.        ]\n",
      " [ 2.82842712  0.        ]]\n"
     ]
    }
   ],
   "source": [
    "# project data\n",
    "P = vectors.T.dot(C.T)\n",
    "print(P.T)"
   ]
  }
 ],
 "metadata": {
  "kernelspec": {
   "display_name": "Python 3 (ipykernel)",
   "language": "python",
   "name": "python3"
  },
  "language_info": {
   "codemirror_mode": {
    "name": "ipython",
    "version": 3
   },
   "file_extension": ".py",
   "mimetype": "text/x-python",
   "name": "python",
   "nbconvert_exporter": "python",
   "pygments_lexer": "ipython3",
   "version": "3.9.12"
  }
 },
 "nbformat": 4,
 "nbformat_minor": 5
}
