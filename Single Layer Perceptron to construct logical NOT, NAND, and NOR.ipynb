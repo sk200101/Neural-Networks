{
 "cells": [
  {
   "cell_type": "markdown",
   "id": "93e41132",
   "metadata": {},
   "source": [
    "# Aim:\n",
    "\n",
    "To Implement a Single layer perceptron to construct logical NOT, NAND and NOR."
   ]
  },
  {
   "cell_type": "markdown",
   "id": "14e0cc35",
   "metadata": {},
   "source": [
    "# Algorithm:\n",
    "\n",
    "Step - 1: Import library.\n",
    "\n",
    "Step - 2: Define step unit function.\n",
    "\n",
    "Step - 3: Design perceptron model.\n",
    "\n",
    "Step - 4: Define logic functions NOT, NAND, NOR\n",
    "\n",
    "Step - 5: Print output\n",
    "    "
   ]
  },
  {
   "cell_type": "markdown",
   "id": "944ccb08",
   "metadata": {},
   "source": [
    "# Code"
   ]
  },
  {
   "cell_type": "markdown",
   "id": "9d4dfbd4",
   "metadata": {},
   "source": [
    "NOT LOGIC"
   ]
  },
  {
   "cell_type": "code",
   "execution_count": 6,
   "id": "dc32ecb5",
   "metadata": {},
   "outputs": [],
   "source": [
    "# import libraries\n",
    "import numpy as np"
   ]
  },
  {
   "cell_type": "code",
   "execution_count": 7,
   "id": "e809b869",
   "metadata": {},
   "outputs": [],
   "source": [
    "# Define Unit Step Function\n",
    "def unit_step(v):\n",
    "    if v >= 0:\n",
    "        return 1\n",
    "    else:\n",
    "        return 0"
   ]
  },
  {
   "cell_type": "code",
   "execution_count": 8,
   "id": "1afd04df",
   "metadata": {},
   "outputs": [],
   "source": [
    "# Design Perceptron Model\n",
    "def perceptron_model(x,w,b):\n",
    "    v = np.dot(w,x) + b\n",
    "    y = unit_step(v)\n",
    "    return y"
   ]
  },
  {
   "cell_type": "code",
   "execution_count": 9,
   "id": "384cda84",
   "metadata": {},
   "outputs": [],
   "source": [
    "# NOT Logic Function\n",
    "# weight = -1 and bias = 0.5\n",
    "def NOT_logic_Function(x):\n",
    "    wNOT = -1\n",
    "    bNOT = 0.5\n",
    "    return perceptron_model(x,wNOT,bNOT)"
   ]
  },
  {
   "cell_type": "code",
   "execution_count": 11,
   "id": "95dda3f1",
   "metadata": {},
   "outputs": [
    {
     "name": "stdout",
     "output_type": "stream",
     "text": [
      "NOT(1) = 0\n",
      "NOT(0) = 1\n"
     ]
    }
   ],
   "source": [
    "print(\"NOT({}) = {}\".format(1,NOT_logic_Function(1)))\n",
    "print(\"NOT({}) = {}\".format(0,NOT_logic_Function(0)))"
   ]
  },
  {
   "cell_type": "markdown",
   "id": "632721b6",
   "metadata": {},
   "source": [
    "NAND LOGIC"
   ]
  },
  {
   "cell_type": "code",
   "execution_count": 12,
   "id": "895ff2c9",
   "metadata": {},
   "outputs": [],
   "source": [
    "import numpy as np"
   ]
  },
  {
   "cell_type": "code",
   "execution_count": 13,
   "id": "273c9e70",
   "metadata": {},
   "outputs": [],
   "source": [
    "def unit_step(v):\n",
    "    if v >= 0:\n",
    "        return 1\n",
    "    else:\n",
    "        return 0"
   ]
  },
  {
   "cell_type": "code",
   "execution_count": 14,
   "id": "98fead17",
   "metadata": {},
   "outputs": [],
   "source": [
    "def perceptron_model(x,w,b):\n",
    "    v = np.dot(w,x) + b\n",
    "    y = unit_step(v)\n",
    "    return y"
   ]
  },
  {
   "cell_type": "code",
   "execution_count": 15,
   "id": "498c92da",
   "metadata": {},
   "outputs": [],
   "source": [
    "def NOT_LOGIC_FUNCTION(x):\n",
    "    w = -1\n",
    "    b = 0.5\n",
    "    return perceptron_model(x,w,b)"
   ]
  },
  {
   "cell_type": "code",
   "execution_count": 18,
   "id": "4f9212ee",
   "metadata": {},
   "outputs": [
    {
     "name": "stdout",
     "output_type": "stream",
     "text": [
      "NOT(1) = 0\n",
      "NOT(0) = 1\n"
     ]
    }
   ],
   "source": [
    "print(\"NOT({}) = {}\".format(1,NOT_LOGIC_FUNCTION(1)))\n",
    "print(\"NOT({}) = {}\".format(0,NOT_LOGIC_FUNCTION(0)))"
   ]
  },
  {
   "cell_type": "code",
   "execution_count": 19,
   "id": "143f32b9",
   "metadata": {},
   "outputs": [],
   "source": [
    "def AND_LOGIC_FUNCTION(x):\n",
    "    w = np.array([1,1])\n",
    "    b = -1.5\n",
    "    return perceptron_model(x,w,b)"
   ]
  },
  {
   "cell_type": "code",
   "execution_count": 21,
   "id": "7c652c84",
   "metadata": {},
   "outputs": [
    {
     "name": "stdout",
     "output_type": "stream",
     "text": [
      "AND(0,0) = 0\n",
      "AND(0,1) = 0\n",
      "AND(1,0) = 0\n",
      "AND(1,1) = 1\n"
     ]
    }
   ],
   "source": [
    "print(\"AND({},{}) = {}\".format(0,0,AND_LOGIC_FUNCTION([0,0])))\n",
    "print(\"AND({},{}) = {}\".format(0,1,AND_LOGIC_FUNCTION([0,1])))\n",
    "print(\"AND({},{}) = {}\".format(1,0,AND_LOGIC_FUNCTION([1,0])))\n",
    "print(\"AND({},{}) = {}\".format(1,1,AND_LOGIC_FUNCTION([1,1])))"
   ]
  },
  {
   "cell_type": "code",
   "execution_count": 22,
   "id": "33188352",
   "metadata": {},
   "outputs": [],
   "source": [
    "def NAND_LOGIC_FUNCTION(x):\n",
    "    a = AND_LOGIC_FUNCTION(x)\n",
    "    n = NOT_LOGIC_FUNCTION(a)\n",
    "    return n"
   ]
  },
  {
   "cell_type": "code",
   "execution_count": 33,
   "id": "76cf4171",
   "metadata": {},
   "outputs": [
    {
     "name": "stdout",
     "output_type": "stream",
     "text": [
      "NAND(0,0) = 1\n",
      "NAND(0,1) = 1\n",
      "NAND(1,0) = 1\n",
      "NAND(1,1) = 0\n"
     ]
    }
   ],
   "source": [
    "print(\"NAND({},{}) = {}\".format(0,0,NAND_LOGIC_FUNCTION([0,0])))\n",
    "print(\"NAND({},{}) = {}\".format(0,1,NAND_LOGIC_FUNCTION([0,1])))\n",
    "print(\"NAND({},{}) = {}\".format(1,0,NAND_LOGIC_FUNCTION([1,0])))\n",
    "print(\"NAND({},{}) = {}\".format(1,1,NAND_LOGIC_FUNCTION([1,1])))"
   ]
  },
  {
   "cell_type": "markdown",
   "id": "c5024f48",
   "metadata": {},
   "source": [
    "NOR GATE"
   ]
  },
  {
   "cell_type": "code",
   "execution_count": 24,
   "id": "10593c5b",
   "metadata": {},
   "outputs": [],
   "source": [
    "import numpy as np"
   ]
  },
  {
   "cell_type": "code",
   "execution_count": 25,
   "id": "40d3fd27",
   "metadata": {},
   "outputs": [],
   "source": [
    "def unit_step(v):\n",
    "    if v >= 0:\n",
    "        return 1\n",
    "    else:\n",
    "        return 0"
   ]
  },
  {
   "cell_type": "code",
   "execution_count": 26,
   "id": "8d6e9ab0",
   "metadata": {},
   "outputs": [],
   "source": [
    "def perceptron_model(x,w,b):\n",
    "    v = np.dot(w,x) + b\n",
    "    y = unit_step(v)\n",
    "    return y"
   ]
  },
  {
   "cell_type": "code",
   "execution_count": 27,
   "id": "954e41e6",
   "metadata": {},
   "outputs": [],
   "source": [
    "def NOT_LOGIC_FUNCTION(x):\n",
    "    w = -1\n",
    "    b = 0.5\n",
    "    return perceptron_model(x,w,b)"
   ]
  },
  {
   "cell_type": "code",
   "execution_count": 29,
   "id": "fafbf2b0",
   "metadata": {},
   "outputs": [
    {
     "name": "stdout",
     "output_type": "stream",
     "text": [
      "NOT(0) = 1\n",
      "NOT(1) = 0\n"
     ]
    }
   ],
   "source": [
    "print(\"NOT({}) = {}\".format(0,NOT_LOGIC_FUNCTION(0)))\n",
    "print(\"NOT({}) = {}\".format(1,NOT_LOGIC_FUNCTION(1)))"
   ]
  },
  {
   "cell_type": "code",
   "execution_count": 30,
   "id": "9b9e7c94",
   "metadata": {},
   "outputs": [],
   "source": [
    "def OR_LOGIC_FUNCTION(x):\n",
    "    w = np.array([1,1])\n",
    "    b = -0.5\n",
    "    return perceptron_model(x,w,b)"
   ]
  },
  {
   "cell_type": "code",
   "execution_count": 31,
   "id": "6c22cc2d",
   "metadata": {},
   "outputs": [
    {
     "name": "stdout",
     "output_type": "stream",
     "text": [
      "OR(0,0) = 0\n",
      "OR(0,1) = 1\n",
      "OR(1,0) = 1\n",
      "OR(1,1) = 1\n"
     ]
    }
   ],
   "source": [
    "print(\"OR({},{}) = {}\".format(0,0,OR_LOGIC_FUNCTION([0,0])))\n",
    "print(\"OR({},{}) = {}\".format(0,1,OR_LOGIC_FUNCTION([0,1])))\n",
    "print(\"OR({},{}) = {}\".format(1,0,OR_LOGIC_FUNCTION([1,0])))\n",
    "print(\"OR({},{}) = {}\".format(1,1,OR_LOGIC_FUNCTION([1,1])))"
   ]
  },
  {
   "cell_type": "code",
   "execution_count": 32,
   "id": "57ba1b24",
   "metadata": {},
   "outputs": [],
   "source": [
    "def NOR_LOGIC_FUNCTION(x):\n",
    "    o = OR_LOGIC_FUNCTION(x)\n",
    "    n = NOT_LOGIC_FUNCTION(o)\n",
    "    return n"
   ]
  },
  {
   "cell_type": "code",
   "execution_count": 34,
   "id": "1bc06583",
   "metadata": {},
   "outputs": [
    {
     "name": "stdout",
     "output_type": "stream",
     "text": [
      "NOR(0,0) = 1\n",
      "NOR(0,1) = 0\n",
      "NOR(1,0) = 0\n",
      "NOR(1,1) = 0\n"
     ]
    }
   ],
   "source": [
    "print(\"NOR({},{}) = {}\".format(0,0,NOR_LOGIC_FUNCTION([0,0])))\n",
    "print(\"NOR({},{}) = {}\".format(0,1,NOR_LOGIC_FUNCTION([0,1])))\n",
    "print(\"NOR({},{}) = {}\".format(1,0,NOR_LOGIC_FUNCTION([1,0])))\n",
    "print(\"NOR({},{}) = {}\".format(1,1,NOR_LOGIC_FUNCTION([1,1])))"
   ]
  }
 ],
 "metadata": {
  "kernelspec": {
   "display_name": "Python 3 (ipykernel)",
   "language": "python",
   "name": "python3"
  },
  "language_info": {
   "codemirror_mode": {
    "name": "ipython",
    "version": 3
   },
   "file_extension": ".py",
   "mimetype": "text/x-python",
   "name": "python",
   "nbconvert_exporter": "python",
   "pygments_lexer": "ipython3",
   "version": "3.9.12"
  }
 },
 "nbformat": 4,
 "nbformat_minor": 5
}
