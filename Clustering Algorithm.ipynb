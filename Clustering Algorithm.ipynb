{
 "cells": [
  {
   "cell_type": "markdown",
   "id": "44fa6926",
   "metadata": {},
   "source": [
    "# Aim\n",
    "\n",
    "To implement Clustering algorithm to perform anomaly detection"
   ]
  },
  {
   "cell_type": "markdown",
   "id": "2691d398",
   "metadata": {},
   "source": [
    "# Algorithm\n",
    "\n",
    "    Step 1: Select the number K to decide the number of clusters.\n",
    "    Step 2: Select random K points or centroids.\n",
    "    Step 3: Assign each data point ot their closest centroid, which will form the predefined K clusters.\n",
    "    Step 4: Calculate the variance and place a new centroid of each cluster.\n",
    "    Step 5: Repeat the third steps, which means reassign each datapoint to the new closest centroid of each cluster.\n",
    "    Step 6: If any reassignment occurs, then go to step 4 else go to FINISH.\n",
    "    Step 7: The model is ready."
   ]
  },
  {
   "cell_type": "markdown",
   "id": "d96502f2",
   "metadata": {},
   "source": [
    "# Code"
   ]
  },
  {
   "cell_type": "markdown",
   "id": "7f9504be",
   "metadata": {},
   "source": [
    "Import Libraries"
   ]
  },
  {
   "cell_type": "code",
   "execution_count": 1,
   "id": "57a46774",
   "metadata": {},
   "outputs": [],
   "source": [
    "from sklearn.cluster import KMeans\n",
    "import numpy as np"
   ]
  },
  {
   "cell_type": "code",
   "execution_count": null,
   "id": "4ecec127",
   "metadata": {},
   "outputs": [],
   "source": [
    "X = np.array([[1,2],[1,4],[1,0],[10,2],[10,4],[10,0]])\n",
    "X"
   ]
  },
  {
   "cell_type": "code",
   "execution_count": 5,
   "id": "14a869d8",
   "metadata": {},
   "outputs": [],
   "source": [
    "kmeans = KMeans(n_clusters=2,random_state=1).fit(X)"
   ]
  },
  {
   "cell_type": "code",
   "execution_count": 8,
   "id": "41089a92",
   "metadata": {},
   "outputs": [
    {
     "name": "stdout",
     "output_type": "stream",
     "text": [
      "[0 0 0 1 1 1]\n",
      "\n",
      "[1]\n",
      "\n",
      "[0]\n",
      "\n",
      "[[ 1.  2.]\n",
      " [10.  2.]]\n"
     ]
    }
   ],
   "source": [
    "print(kmeans.labels_)\n",
    "print()\n",
    "print(kmeans.predict([[12,3]]))\n",
    "print()\n",
    "print(kmeans.predict([[2,4]]))\n",
    "print()\n",
    "print(kmeans.cluster_centers_)"
   ]
  },
  {
   "cell_type": "code",
   "execution_count": null,
   "id": "bdc0fe53",
   "metadata": {},
   "outputs": [],
   "source": []
  }
 ],
 "metadata": {
  "kernelspec": {
   "display_name": "Python 3 (ipykernel)",
   "language": "python",
   "name": "python3"
  },
  "language_info": {
   "codemirror_mode": {
    "name": "ipython",
    "version": 3
   },
   "file_extension": ".py",
   "mimetype": "text/x-python",
   "name": "python",
   "nbconvert_exporter": "python",
   "pygments_lexer": "ipython3",
   "version": "3.9.12"
  }
 },
 "nbformat": 4,
 "nbformat_minor": 5
}
