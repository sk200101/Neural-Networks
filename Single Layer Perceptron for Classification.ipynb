{
 "cells": [
  {
   "cell_type": "markdown",
   "id": "9aaa7bf4",
   "metadata": {},
   "source": [
    "# Aim\n",
    "\n",
    "Implement a Single Layer Perceptron for a classification problem"
   ]
  },
  {
   "cell_type": "markdown",
   "id": "a6deea5c",
   "metadata": {},
   "source": [
    "# Algorithm\n",
    "\n",
    "The perceptron works on these simple steps which are given below:\n",
    "\n",
    "    1. In the first step, all the inpues x are muliplied with their weights w.\n",
    "    2. In this step, add all the increased values and call them the Weighted sum.\n",
    "    3. In our last step, apply the weighted sum to a correct Activation Function."
   ]
  },
  {
   "cell_type": "markdown",
   "id": "f545d024",
   "metadata": {},
   "source": [
    "# Code"
   ]
  },
  {
   "cell_type": "code",
   "execution_count": 5,
   "id": "8ef39d59",
   "metadata": {},
   "outputs": [],
   "source": [
    "import tensorflow as tf\n",
    "import matplotlib.pyplot as plt\n",
    "from sklearn.datasets import load_digits\n",
    "import pandas as pd"
   ]
  },
  {
   "cell_type": "code",
   "execution_count": 8,
   "id": "680dc70f",
   "metadata": {},
   "outputs": [
    {
     "ename": "ModuleNotFoundError",
     "evalue": "No module named 'tensorflow_datasets'",
     "output_type": "error",
     "traceback": [
      "\u001b[1;31m---------------------------------------------------------------------------\u001b[0m",
      "\u001b[1;31mModuleNotFoundError\u001b[0m                       Traceback (most recent call last)",
      "Input \u001b[1;32mIn [8]\u001b[0m, in \u001b[0;36m<cell line: 1>\u001b[1;34m()\u001b[0m\n\u001b[1;32m----> 1\u001b[0m \u001b[38;5;28;01mimport\u001b[39;00m \u001b[38;5;21;01mtensorflow_datasets\u001b[39;00m\n\u001b[0;32m      2\u001b[0m mnist \u001b[38;5;241m=\u001b[39m tensorflow_datasets\u001b[38;5;241m.\u001b[39mload(\u001b[38;5;124m'\u001b[39m\u001b[38;5;124mmnist\u001b[39m\u001b[38;5;124m'\u001b[39m)\n",
      "\u001b[1;31mModuleNotFoundError\u001b[0m: No module named 'tensorflow_datasets'"
     ]
    }
   ],
   "source": [
    "import tensorflow_datasets\n",
    "mnist = tensorflow_datasets.load('mnist')"
   ]
  },
  {
   "cell_type": "code",
   "execution_count": 2,
   "id": "078190c8",
   "metadata": {},
   "outputs": [],
   "source": [
    "learning_rate = 0.01\n",
    "training_epochs = 25\n",
    "batch_size = 100\n",
    "display_step = 1"
   ]
  },
  {
   "cell_type": "code",
   "execution_count": 3,
   "id": "349255b0",
   "metadata": {},
   "outputs": [
    {
     "ename": "AttributeError",
     "evalue": "module 'tensorflow' has no attribute 'placeholder'",
     "output_type": "error",
     "traceback": [
      "\u001b[1;31m---------------------------------------------------------------------------\u001b[0m",
      "\u001b[1;31mAttributeError\u001b[0m                            Traceback (most recent call last)",
      "Input \u001b[1;32mIn [3]\u001b[0m, in \u001b[0;36m<cell line: 2>\u001b[1;34m()\u001b[0m\n\u001b[0;32m      1\u001b[0m \u001b[38;5;66;03m# tf graph input\u001b[39;00m\n\u001b[1;32m----> 2\u001b[0m x \u001b[38;5;241m=\u001b[39m \u001b[43mtf\u001b[49m\u001b[38;5;241;43m.\u001b[39;49m\u001b[43mplaceholder\u001b[49m(\u001b[38;5;124m\"\u001b[39m\u001b[38;5;124mfloat\u001b[39m\u001b[38;5;124m\"\u001b[39m,[none,\u001b[38;5;241m784\u001b[39m],)\n\u001b[0;32m      3\u001b[0m y \u001b[38;5;241m=\u001b[39m tf\u001b[38;5;241m.\u001b[39mplaceholder(\u001b[38;5;124m\"\u001b[39m\u001b[38;5;124mfloat\u001b[39m\u001b[38;5;124m\"\u001b[39m,[none,\u001b[38;5;241m10\u001b[39m])\n",
      "\u001b[1;31mAttributeError\u001b[0m: module 'tensorflow' has no attribute 'placeholder'"
     ]
    }
   ],
   "source": [
    "# tf graph input\n",
    "x = tf.placeholder(\"float\",[none,784],)\n",
    "y = tf.placeholder(\"float\",[none,10])"
   ]
  },
  {
   "cell_type": "code",
   "execution_count": null,
   "id": "a820a35d",
   "metadata": {},
   "outputs": [],
   "source": [
    "# Import MINST data \n",
    "from tensorflow.examples.tutorials.mnist import input_data \n",
    "mnist = input_data.read_data_sets(\"/tmp/data/\", one_hot = True) \n",
    "\n",
    "import tensorflow as tf \n",
    "import matplotlib.pyplot as plt \n",
    "\n",
    "# Parameters \n",
    "learning_rate = 0.01 \n",
    "training_epochs = 25 \n",
    "batch_size = 100 \n",
    "display_step = 1 \n",
    "\n",
    "# tf Graph Input \n",
    "x = tf.placeholder(\"float\", [None, 784]) # mnist data image of shape 28*28 = 784 \n",
    "y = tf.placeholder(\"float\", [None, 10]) # 0-9 digits recognition => 10 classes \n",
    "\n",
    "# Create model \n",
    "# Set model weights \n",
    "W = tf.Variable(tf.zeros([784, 10])) \n",
    "b = tf.Variable(tf.zeros([10])) \n",
    "\n",
    "# Construct model \n",
    "activation = tf.nn.softmax(tf.matmul(x, W) + b) # Softmax \n",
    "\n",
    "# Minimize error using cross entropy \n",
    "cross_entropy = y*tf.log(activation) \n",
    "cost = tf.reduce_mean\\ (-tf.reduce_sum\\ (cross_entropy,reduction_indices = 1)) \n",
    "\n",
    "optimizer = tf.train.\\ GradientDescentOptimizer(learning_rate).minimize(cost) \n",
    "\n",
    "#Plot settings \n",
    "avg_set = [] \n",
    "epoch_set = [] \n",
    "\n",
    "# Initializing the variables init = tf.initialize_all_variables()\n",
    "# Launch the graph \n",
    "with tf.Session() as sess:\n",
    "   sess.run(init)\n",
    "   \n",
    "   # Training cycle\n",
    "   for epoch in range(training_epochs):\n",
    "      avg_cost = 0.\n",
    "      total_batch = int(mnist.train.num_examples/batch_size)\n",
    "      \n",
    "      # Loop over all batches\n",
    "      for i in range(total_batch):\n",
    "         batch_xs, batch_ys = \\ mnist.train.next_batch(batch_size)\n",
    "         # Fit training using batch data sess.run(optimizer, \\ feed_dict = {\n",
    "            x: batch_xs, y: batch_ys}) \n",
    "         # Compute average loss avg_cost += sess.run(cost, \\ feed_dict = {\n",
    "            x: batch_xs, \\ y: batch_ys})/total_batch\n",
    "      # Display logs per epoch step\n",
    "      if epoch % display_step == 0:\n",
    "         print (\"Epoch:\", '%04d' % (epoch+1), \"cost=\", \"{:.9f}\".format(avg_cost))\n",
    "            avg_set.append(avg_cost) epoch_set.append(epoch+1)\n",
    "   print (\"Training phase finished\")\n",
    "    \n",
    "   plt.plot(epoch_set,avg_set, 'o', label = 'Logistic Regression Training phase') \n",
    "   plt.ylabel('cost') \n",
    "   plt.xlabel('epoch') \n",
    "   plt.legend() \n",
    "   plt.show() \n",
    "    \n",
    "   # Test model \n",
    "   correct_prediction = tf.equal(tf.argmax(activation, 1), tf.argmax(y, 1)) \n",
    "   \n",
    "   # Calculate accuracy \n",
    "   accuracy = tf.reduce_mean(tf.cast(correct_prediction, \"float\")) print \n",
    "      (\"Model accuracy:\", accuracy.eval({x: mnist.test.images, y: mnist.test.labels}))"
   ]
  }
 ],
 "metadata": {
  "kernelspec": {
   "display_name": "Python 3 (ipykernel)",
   "language": "python",
   "name": "python3"
  },
  "language_info": {
   "codemirror_mode": {
    "name": "ipython",
    "version": 3
   },
   "file_extension": ".py",
   "mimetype": "text/x-python",
   "name": "python",
   "nbconvert_exporter": "python",
   "pygments_lexer": "ipython3",
   "version": "3.9.12"
  }
 },
 "nbformat": 4,
 "nbformat_minor": 5
}
