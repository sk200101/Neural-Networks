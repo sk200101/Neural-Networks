{
 "cells": [
  {
   "cell_type": "markdown",
   "id": "1adb2c10",
   "metadata": {},
   "source": [
    "# Import Libraries"
   ]
  },
  {
   "cell_type": "code",
   "execution_count": 22,
   "id": "abd211a9",
   "metadata": {},
   "outputs": [],
   "source": [
    "import pandas as pd"
   ]
  },
  {
   "cell_type": "code",
   "execution_count": 23,
   "id": "615b15b4",
   "metadata": {},
   "outputs": [],
   "source": [
    "# Inatializing m and c\n",
    "m = 0\n",
    "c = 0"
   ]
  },
  {
   "cell_type": "code",
   "execution_count": 24,
   "id": "5ee9d732",
   "metadata": {},
   "outputs": [],
   "source": [
    "X = [5.1,6.2,5.8,5.5,5.0,5.3,6.0]  # Height\n",
    "Y = [54,75,67,65,54,59,69]         # Weight"
   ]
  },
  {
   "cell_type": "code",
   "execution_count": 25,
   "id": "67f96085",
   "metadata": {},
   "outputs": [
    {
     "name": "stdout",
     "output_type": "stream",
     "text": [
      "[(5.1, 54), (6.2, 75), (5.8, 67), (5.5, 65), (5.0, 54), (5.3, 59), (6.0, 69)]\n"
     ]
    }
   ],
   "source": [
    "# create a list of X and Y pair\n",
    "print(list(zip(X,Y)))     "
   ]
  },
  {
   "cell_type": "code",
   "execution_count": 26,
   "id": "eb772027",
   "metadata": {},
   "outputs": [],
   "source": [
    "# create dataframe for the table of values\n",
    "data = pd.DataFrame(list(zip(X,Y)),columns=['X','Y'])"
   ]
  },
  {
   "cell_type": "code",
   "execution_count": 27,
   "id": "01cca4e5",
   "metadata": {},
   "outputs": [
    {
     "name": "stdout",
     "output_type": "stream",
     "text": [
      "     X   Y\n",
      "0  5.1  54\n",
      "1  6.2  75\n",
      "2  5.8  67\n",
      "3  5.5  65\n",
      "4  5.0  54\n",
      "5  5.3  59\n",
      "6  6.0  69\n"
     ]
    }
   ],
   "source": [
    "print(data)"
   ]
  },
  {
   "cell_type": "code",
   "execution_count": 28,
   "id": "e444ace2",
   "metadata": {
    "scrolled": true
   },
   "outputs": [
    {
     "data": {
      "text/plain": [
       "0    5.1\n",
       "1    6.2\n",
       "2    5.8\n",
       "3    5.5\n",
       "4    5.0\n",
       "5    5.3\n",
       "6    6.0\n",
       "Name: X, dtype: float64"
      ]
     },
     "execution_count": 28,
     "metadata": {},
     "output_type": "execute_result"
    }
   ],
   "source": [
    "X = data['X']\n",
    "X"
   ]
  },
  {
   "cell_type": "code",
   "execution_count": 29,
   "id": "8bdcdbbf",
   "metadata": {},
   "outputs": [
    {
     "data": {
      "text/plain": [
       "0    54\n",
       "1    75\n",
       "2    67\n",
       "3    65\n",
       "4    54\n",
       "5    59\n",
       "6    69\n",
       "Name: Y, dtype: int64"
      ]
     },
     "execution_count": 29,
     "metadata": {},
     "output_type": "execute_result"
    }
   ],
   "source": [
    "Y = data['Y']\n",
    "Y"
   ]
  },
  {
   "cell_type": "code",
   "execution_count": 30,
   "id": "ba1d52e0",
   "metadata": {},
   "outputs": [],
   "source": [
    "# Learning Rate\n",
    "L = 0.0001"
   ]
  },
  {
   "cell_type": "code",
   "execution_count": 31,
   "id": "30de390a",
   "metadata": {},
   "outputs": [],
   "source": [
    "# Number of iterations to perform gradient descent\n",
    "epoches = 1000"
   ]
  },
  {
   "cell_type": "code",
   "execution_count": 32,
   "id": "a37452b2",
   "metadata": {},
   "outputs": [],
   "source": [
    "# number of elements in X\n",
    "n = float(len(X))"
   ]
  },
  {
   "cell_type": "code",
   "execution_count": 33,
   "id": "5d8fcb58",
   "metadata": {},
   "outputs": [],
   "source": [
    "# Performing Gradient Descent\n",
    "for i in range(epoches):\n",
    "    Y_pred = m*X+c\n",
    "    D_m = (-2/n)*sum(X*(Y-Y_pred))\n",
    "    D_c = (-2/n)*sum(Y-Y_pred)\n",
    "    m = m-L*D_m\n",
    "    c = c-L*D_c"
   ]
  },
  {
   "cell_type": "code",
   "execution_count": 34,
   "id": "36f323e3",
   "metadata": {},
   "outputs": [
    {
     "name": "stdout",
     "output_type": "stream",
     "text": [
      "11.054217552953162 1.9396429551719239\n"
     ]
    }
   ],
   "source": [
    "print(m,c)"
   ]
  },
  {
   "cell_type": "code",
   "execution_count": 35,
   "id": "a2e26b84",
   "metadata": {},
   "outputs": [],
   "source": [
    "def predict(x):\n",
    "    return m*x+c"
   ]
  },
  {
   "cell_type": "code",
   "execution_count": 36,
   "id": "f883b047",
   "metadata": {},
   "outputs": [
    {
     "data": {
      "text/plain": [
       "68.26494827289089"
      ]
     },
     "execution_count": 36,
     "metadata": {},
     "output_type": "execute_result"
    }
   ],
   "source": [
    "predict(6.0)"
   ]
  }
 ],
 "metadata": {
  "kernelspec": {
   "display_name": "Python 3 (ipykernel)",
   "language": "python",
   "name": "python3"
  },
  "language_info": {
   "codemirror_mode": {
    "name": "ipython",
    "version": 3
   },
   "file_extension": ".py",
   "mimetype": "text/x-python",
   "name": "python",
   "nbconvert_exporter": "python",
   "pygments_lexer": "ipython3",
   "version": "3.9.7"
  }
 },
 "nbformat": 4,
 "nbformat_minor": 5
}
